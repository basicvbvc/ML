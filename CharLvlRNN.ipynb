{
 "cells": [
  {
   "cell_type": "code",
   "execution_count": 60,
   "metadata": {},
   "outputs": [],
   "source": [
    "import torch\n",
    "import torch.nn as nn\n",
    "from torch.autograd import Variable\n",
    "\n",
    "import numpy as np\n",
    "import string\n",
    "from tqdm import trange\n",
    "\n",
    "all_letters = string.ascii_letters + \" .,;'\"\n",
    "\n",
    "def read_data():\n",
    "    data_path = 'data/HPserie/HPSerie'\n",
    "    with open(data_path, 'r') as myfile:\n",
    "        data=myfile.read().replace('\\n', '')\n",
    "\n",
    "    return data\n",
    "\n",
    "def seq_gen(data, seq_len):\n",
    "    total_size = len(data)\n",
    "    ex_len = seq_len + 1\n",
    "    idxs = list(range(0, total_size, ex_len))\n",
    "    np.random.shuffle(idxs)\n",
    "    yield len(idxs)\n",
    "    while True:\n",
    "        for idx in idxs:\n",
    "            d = data[idx:idx + ex_len]\n",
    "            X = d[0:-1]\n",
    "            Y = d[1:]\n",
    "            X_txt = ''.join(X)\n",
    "            Y_txt = ''.join(Y)\n",
    "            X_encoded = Variable(torch.Tensor([char_to_idx[x] for x in X]).long())\n",
    "            Y_encoded = Variable(torch.Tensor([char_to_idx[x] for x in Y]).long())\n",
    "            \n",
    "            yield X_txt, Y_txt, X_encoded, Y_encoded\n",
    "        np.random.shuffle(idxs)\n",
    "    \n",
    "\n",
    "data = read_data()\n",
    "data = [x for x in data if x in all_letters]\n",
    "\n",
    "\n",
    "char_to_idx = {x: i for i,x in enumerate(all_letters)}\n",
    "idx_to_char = {v: k for k,v in char_to_idx.items()}"
   ]
  },
  {
   "cell_type": "code",
   "execution_count": 61,
   "metadata": {
    "collapsed": true
   },
   "outputs": [],
   "source": [
    "class RNN(nn.Module):\n",
    "    def __init__(self, input_size, hidden_size, output_size, n_layers=1):\n",
    "        super(RNN, self).__init__()\n",
    "        self.input_size = input_size\n",
    "        self.hidden_size = hidden_size\n",
    "        self.output_size = output_size\n",
    "        self.n_layers = n_layers\n",
    "\n",
    "        self.encoder = nn.Embedding(input_size, hidden_size)\n",
    "        self.gru = nn.GRU(hidden_size, hidden_size, n_layers)\n",
    "        self.decoder = nn.Linear(hidden_size, output_size)\n",
    "\n",
    "    def forward(self, input, hidden):\n",
    "        input = self.encoder(input.view(1, -1))\n",
    "        output, hidden = self.gru(input.view(1, 1, -1), hidden)\n",
    "        output = self.decoder(output.view(1, -1))\n",
    "        return output, hidden\n",
    "\n",
    "    def init_hidden(self):\n",
    "        return Variable(torch.zeros(self.n_layers, 1, self.hidden_size))"
   ]
  },
  {
   "cell_type": "code",
   "execution_count": 85,
   "metadata": {},
   "outputs": [],
   "source": [
    "input_size = len(all_letters)\n",
    "hidden_size = 100\n",
    "n_layers = 1\n",
    "\n",
    "print_every = 50 \n",
    "plot_every = 100\n",
    "epochs = 2\n",
    "\n",
    "\n",
    "model = RNN(input_size, hidden_size, input_size, n_layers)\n",
    "model_optimizer = torch.optim.Adam(model.parameters())"
   ]
  },
  {
   "cell_type": "code",
   "execution_count": 86,
   "metadata": {},
   "outputs": [],
   "source": [
    "criterion = nn.CrossEntropyLoss()\n",
    "\n",
    "def train(inp, target):\n",
    "    hidden = model.init_hidden()\n",
    "    model.zero_grad()\n",
    "    loss = 0\n",
    "\n",
    "    for c in range(len(inp)):\n",
    "        output, hidden = model(inp[c], hidden)\n",
    "        loss += criterion(output, target[c])\n",
    "\n",
    "    loss.backward()\n",
    "    model_optimizer.step()\n",
    "\n",
    "    return loss.data[0] / float(len(inp))"
   ]
  },
  {
   "cell_type": "code",
   "execution_count": 87,
   "metadata": {},
   "outputs": [
    {
     "name": "stdout",
     "output_type": "stream",
     "text": [
      "Epoch Progress:  0.00%  -- Loss:  4.064524230957031\n",
      "Epoch Progress:  0.16%  -- Loss:  2.7305538940429686\n",
      "Epoch Progress:  0.31%  -- Loss:  2.2909014892578123\n",
      "Epoch Progress:  0.47%  -- Loss:  2.3305950927734376\n",
      "Epoch Progress:  0.63%  -- Loss:  2.3104985046386717\n",
      "Epoch Progress:  0.79%  -- Loss:  2.243597412109375\n",
      "Epoch Progress:  0.94%  -- Loss:  2.2456619262695314\n",
      "Epoch Progress:  1.10%  -- Loss:  2.458329315185547\n",
      "Epoch Progress:  1.26%  -- Loss:  1.9930632019042969\n",
      "Epoch Progress:  1.42%  -- Loss:  2.1697654724121094\n",
      "Epoch Progress:  1.57%  -- Loss:  2.1154826354980467\n",
      "Epoch Progress:  1.73%  -- Loss:  1.9758218383789063\n",
      "Epoch Progress:  1.89%  -- Loss:  2.047470703125\n",
      "Epoch Progress:  2.05%  -- Loss:  1.8630349731445313\n",
      "Epoch Progress:  2.20%  -- Loss:  2.0472833251953126\n",
      "Epoch Progress:  2.36%  -- Loss:  1.9806504821777344\n",
      "Epoch Progress:  2.52%  -- Loss:  2.067671356201172\n",
      "Epoch Progress:  2.68%  -- Loss:  1.9888923645019532\n",
      "Epoch Progress:  2.83%  -- Loss:  1.8628021240234376\n"
     ]
    },
    {
     "ename": "KeyboardInterrupt",
     "evalue": "",
     "output_type": "error",
     "traceback": [
      "\u001b[0;31m---------------------------------------------------------------------------\u001b[0m",
      "\u001b[0;31mKeyboardInterrupt\u001b[0m                         Traceback (most recent call last)",
      "\u001b[0;32m<ipython-input-87-c58ac8765e68>\u001b[0m in \u001b[0;36m<module>\u001b[0;34m()\u001b[0m\n\u001b[1;32m      8\u001b[0m     \u001b[0;32mfor\u001b[0m \u001b[0mb\u001b[0m \u001b[0;32min\u001b[0m \u001b[0mrange\u001b[0m\u001b[0;34m(\u001b[0m\u001b[0mbatch_per_epoch\u001b[0m\u001b[0;34m)\u001b[0m\u001b[0;34m:\u001b[0m\u001b[0;34m\u001b[0m\u001b[0m\n\u001b[1;32m      9\u001b[0m         \u001b[0mX_txt\u001b[0m\u001b[0;34m,\u001b[0m \u001b[0mY_txt\u001b[0m\u001b[0;34m,\u001b[0m \u001b[0mX_enc\u001b[0m\u001b[0;34m,\u001b[0m \u001b[0mY_enc\u001b[0m \u001b[0;34m=\u001b[0m \u001b[0mnext\u001b[0m\u001b[0;34m(\u001b[0m\u001b[0mG\u001b[0m\u001b[0;34m)\u001b[0m\u001b[0;34m\u001b[0m\u001b[0m\n\u001b[0;32m---> 10\u001b[0;31m         \u001b[0mloss\u001b[0m \u001b[0;34m=\u001b[0m \u001b[0mtrain\u001b[0m\u001b[0;34m(\u001b[0m\u001b[0mX_enc\u001b[0m\u001b[0;34m,\u001b[0m \u001b[0mY_enc\u001b[0m\u001b[0;34m)\u001b[0m\u001b[0;34m\u001b[0m\u001b[0m\n\u001b[0m\u001b[1;32m     11\u001b[0m         \u001b[0mloss_avg\u001b[0m \u001b[0;34m+=\u001b[0m \u001b[0mloss\u001b[0m\u001b[0;34m\u001b[0m\u001b[0m\n\u001b[1;32m     12\u001b[0m \u001b[0;34m\u001b[0m\u001b[0m\n",
      "\u001b[0;32m<ipython-input-86-3506653b133b>\u001b[0m in \u001b[0;36mtrain\u001b[0;34m(inp, target)\u001b[0m\n\u001b[1;32m     10\u001b[0m         \u001b[0mloss\u001b[0m \u001b[0;34m+=\u001b[0m \u001b[0mcriterion\u001b[0m\u001b[0;34m(\u001b[0m\u001b[0moutput\u001b[0m\u001b[0;34m,\u001b[0m \u001b[0mtarget\u001b[0m\u001b[0;34m[\u001b[0m\u001b[0mc\u001b[0m\u001b[0;34m]\u001b[0m\u001b[0;34m)\u001b[0m\u001b[0;34m\u001b[0m\u001b[0m\n\u001b[1;32m     11\u001b[0m \u001b[0;34m\u001b[0m\u001b[0m\n\u001b[0;32m---> 12\u001b[0;31m     \u001b[0mloss\u001b[0m\u001b[0;34m.\u001b[0m\u001b[0mbackward\u001b[0m\u001b[0;34m(\u001b[0m\u001b[0;34m)\u001b[0m\u001b[0;34m\u001b[0m\u001b[0m\n\u001b[0m\u001b[1;32m     13\u001b[0m     \u001b[0mmodel_optimizer\u001b[0m\u001b[0;34m.\u001b[0m\u001b[0mstep\u001b[0m\u001b[0;34m(\u001b[0m\u001b[0;34m)\u001b[0m\u001b[0;34m\u001b[0m\u001b[0m\n\u001b[1;32m     14\u001b[0m \u001b[0;34m\u001b[0m\u001b[0m\n",
      "\u001b[0;32m~/.local/lib/python3.5/site-packages/torch/autograd/variable.py\u001b[0m in \u001b[0;36mbackward\u001b[0;34m(self, gradient, retain_variables)\u001b[0m\n\u001b[1;32m    144\u001b[0m                     'or with gradient w.r.t. the variable')\n\u001b[1;32m    145\u001b[0m             \u001b[0mgradient\u001b[0m \u001b[0;34m=\u001b[0m \u001b[0mself\u001b[0m\u001b[0;34m.\u001b[0m\u001b[0mdata\u001b[0m\u001b[0;34m.\u001b[0m\u001b[0mnew\u001b[0m\u001b[0;34m(\u001b[0m\u001b[0;34m)\u001b[0m\u001b[0;34m.\u001b[0m\u001b[0mresize_as_\u001b[0m\u001b[0;34m(\u001b[0m\u001b[0mself\u001b[0m\u001b[0;34m.\u001b[0m\u001b[0mdata\u001b[0m\u001b[0;34m)\u001b[0m\u001b[0;34m.\u001b[0m\u001b[0mfill_\u001b[0m\u001b[0;34m(\u001b[0m\u001b[0;36m1\u001b[0m\u001b[0;34m)\u001b[0m\u001b[0;34m\u001b[0m\u001b[0m\n\u001b[0;32m--> 146\u001b[0;31m         \u001b[0mself\u001b[0m\u001b[0;34m.\u001b[0m\u001b[0m_execution_engine\u001b[0m\u001b[0;34m.\u001b[0m\u001b[0mrun_backward\u001b[0m\u001b[0;34m(\u001b[0m\u001b[0;34m(\u001b[0m\u001b[0mself\u001b[0m\u001b[0;34m,\u001b[0m\u001b[0;34m)\u001b[0m\u001b[0;34m,\u001b[0m \u001b[0;34m(\u001b[0m\u001b[0mgradient\u001b[0m\u001b[0;34m,\u001b[0m\u001b[0;34m)\u001b[0m\u001b[0;34m,\u001b[0m \u001b[0mretain_variables\u001b[0m\u001b[0;34m)\u001b[0m\u001b[0;34m\u001b[0m\u001b[0m\n\u001b[0m\u001b[1;32m    147\u001b[0m \u001b[0;34m\u001b[0m\u001b[0m\n\u001b[1;32m    148\u001b[0m     \u001b[0;32mdef\u001b[0m \u001b[0mregister_hook\u001b[0m\u001b[0;34m(\u001b[0m\u001b[0mself\u001b[0m\u001b[0;34m,\u001b[0m \u001b[0mhook\u001b[0m\u001b[0;34m)\u001b[0m\u001b[0;34m:\u001b[0m\u001b[0;34m\u001b[0m\u001b[0m\n",
      "\u001b[0;31mKeyboardInterrupt\u001b[0m: "
     ]
    }
   ],
   "source": [
    "G = seq_gen(data, 200)\n",
    "batch_per_epoch = next(G)\n",
    "\n",
    "loss_avg = 0\n",
    "losses = []\n",
    "\n",
    "for epoch in range(1, epochs+1):\n",
    "    for b in range(batch_per_epoch):\n",
    "        X_txt, Y_txt, X_enc, Y_enc = next(G)\n",
    "        loss = train(X_enc, Y_enc)       \n",
    "        loss_avg += loss\n",
    "        \n",
    "        if b % print_every == 0:\n",
    "            progress = \"{0:0=.2f}%\".format(100 * float(b) / float(batch_per_epoch))\n",
    "            print('Epoch Progress: ', progress, ' -- ' + 'Loss: ' , loss_av)\n",
    "            \n",
    "        if b % plot_every == 100:\n",
    "            losses.append(loss_avg / plot_every)\n",
    "            loss_avg = 0\n",
    "    "
   ]
  },
  {
   "cell_type": "code",
   "execution_count": null,
   "metadata": {},
   "outputs": [],
   "source": []
  }
 ],
 "metadata": {
  "kernelspec": {
   "display_name": "Python 3",
   "language": "python",
   "name": "python3"
  },
  "language_info": {
   "codemirror_mode": {
    "name": "ipython",
    "version": 3
   },
   "file_extension": ".py",
   "mimetype": "text/x-python",
   "name": "python",
   "nbconvert_exporter": "python",
   "pygments_lexer": "ipython3",
   "version": "3.5.2"
  }
 },
 "nbformat": 4,
 "nbformat_minor": 2
}
