{
 "cells": [
  {
   "cell_type": "code",
   "execution_count": 170,
   "metadata": {},
   "outputs": [],
   "source": [
    "import torch\n",
    "import torch.nn as nn\n",
    "from torch.autograd import Variable\n",
    "\n",
    "import numpy as np\n",
    "import string\n",
    "from tqdm import tqdm_notebook\n",
    "\n",
    "all_letters = string.ascii_letters + \" .,;'\"\n",
    "\n",
    "def read_data():\n",
    "    data_path = 'data/HPserie/HPSerie'\n",
    "    with open(data_path, 'r') as myfile:\n",
    "        data=myfile.read().replace('\\n', '')\n",
    "    return data\n",
    "\n",
    "def seq_gen(data, data_enc, seq_len, batch_size):\n",
    "    total_size = len(data)\n",
    "    ex_len = seq_len + 1\n",
    "    idxs = list(range(0, total_size-200, ex_len))\n",
    "    np.random.shuffle(idxs)\n",
    "    \n",
    "    yield len(idxs) // batch_size \n",
    "    while True:\n",
    "        batches = np.array_split(idxs, len(idxs) // batch_size)    \n",
    "        for batch in batches:\n",
    "            X = [data[i:i+seq_len] for i in batch]\n",
    "            Y = [data[i+1:i+1+seq_len] for i in batch]\n",
    "            X_enc = torch.Tensor([data_enc[i:i+seq_len] for i in batch]).t().long().cuda()\n",
    "            Y_enc = torch.Tensor([data_enc[i+1:i+1+seq_len] for i in batch]).t().long().cuda()            \n",
    "             \n",
    "            yield Variable(X_enc), Variable(Y_enc)\n",
    "        np.random.shuffle(idxs)\n",
    "    \n",
    "\n",
    "data = read_data()\n",
    "data = [x for x in data if x in all_letters]\n",
    "\n",
    "data_enc = [char_to_idx[x] for x in data]\n",
    "\n",
    "char_to_idx = {x: i for i,x in enumerate(all_letters)}\n",
    "idx_to_char = {v: k for k,v in char_to_idx.items()}\n",
    "G = seq_gen(data, data_enc, 200, 50)"
   ]
  },
  {
   "cell_type": "code",
   "execution_count": 171,
   "metadata": {
    "collapsed": true
   },
   "outputs": [],
   "source": [
    "class RNN(nn.Module):\n",
    "    def __init__(self, input_size, hidden_size, output_size, n_layers=1):\n",
    "        super(RNN, self).__init__()\n",
    "        self.input_size = input_size\n",
    "        self.hidden_size = hidden_size\n",
    "        self.output_size = output_size\n",
    "        self.n_layers = n_layers\n",
    "\n",
    "        self.encoder = nn.Embedding(input_size, hidden_size)\n",
    "        self.gru = nn.GRU(hidden_size, hidden_size, n_layers)\n",
    "        self.decoder = nn.Linear(hidden_size, output_size)\n",
    "\n",
    "    def forward(self, input, hidden, seq_len, batch_size):\n",
    "        input = self.encoder(input)\n",
    "        output, hidden = self.gru(input.view(seq_len, batch_size, -1), hidden)\n",
    "        output = self.decoder(output.view(-1, self.hidden_size))\n",
    "        output = output.view(seq_len, batch_size, self.output_size)\n",
    "        return output, hidden\n",
    "\n",
    "    def init_hidden(self, batch_size):\n",
    "        return Variable(torch.zeros(self.n_layers, batch_size, self.hidden_size).cuda())"
   ]
  },
  {
   "cell_type": "code",
   "execution_count": 172,
   "metadata": {},
   "outputs": [
    {
     "data": {
      "text/plain": [
       "RNN (\n",
       "  (encoder): Embedding(57, 100)\n",
       "  (gru): GRU(100, 100, num_layers=3)\n",
       "  (decoder): Linear (100 -> 57)\n",
       ")"
      ]
     },
     "execution_count": 172,
     "metadata": {},
     "output_type": "execute_result"
    }
   ],
   "source": [
    "input_size = len(all_letters)\n",
    "hidden_size = 100\n",
    "n_layers = 3\n",
    "\n",
    "print_every = 50 \n",
    "plot_every = 100\n",
    "epochs = 10\n",
    "\n",
    "\n",
    "model = RNN(input_size, hidden_size, input_size, n_layers)\n",
    "model_optimizer = torch.optim.Adam(model.parameters())\n",
    "\n",
    "model.cuda()"
   ]
  },
  {
   "cell_type": "code",
   "execution_count": null,
   "metadata": {
    "collapsed": true
   },
   "outputs": [],
   "source": [
    "criterion = nn.CrossEntropyLoss()\n",
    "\n",
    "def train(inp, target):\n",
    "    hidden = model.init_hidden(inp.size()[1])\n",
    "    model.zero_grad()\n",
    "    loss = 0\n",
    "\n",
    "    output, hidden = model(inp, hidden, inp.size()[0], inp.size()[1])\n",
    "    output = output.view(-1, model.output_size)\n",
    "    loss = criterion(output, target.view(-1))\n",
    "\n",
    "    loss.backward()\n",
    "    model_optimizer.step()\n",
    "\n",
    "    return loss.data[0]"
   ]
  },
  {
   "cell_type": "code",
   "execution_count": null,
   "metadata": {},
   "outputs": [],
   "source": [
    "G = seq_gen(data, data_enc, 200, 100)\n",
    "batch_per_epoch = next(G)\n",
    "\n",
    "loss_avg = 0\n",
    "losses = []\n",
    "\n",
    "for epoch in range(1, epochs+1):\n",
    "    bar = tqdm_notebook(range(batch_per_epoch))\n",
    "    for b in bar:\n",
    "        X_enc, Y_enc = next(G)\n",
    "        loss = train(X_enc, Y_enc)       \n",
    "        loss_avg += loss\n",
    "        \n",
    "        bar.set_postfix(loss=loss)\n",
    "        if b == batch_per_epoch-1:\n",
    "            bar.write(loss_avg / batch_per_epoch)\n",
    "            loss_avg = 0"
   ]
  },
  {
   "cell_type": "code",
   "execution_count": null,
   "metadata": {
    "collapsed": true
   },
   "outputs": [],
   "source": [
    "torch.cuda.is_available()"
   ]
  },
  {
   "cell_type": "code",
   "execution_count": 51,
   "metadata": {},
   "outputs": [
    {
     "name": "stdout",
     "output_type": "stream",
     "text": [
      "torch.Size([10, 4, 100])\n",
      "torch.Size([10, 4, 100])\n"
     ]
    },
    {
     "data": {
      "text/plain": [
       "torch.Size([10, 4, 57])"
      ]
     },
     "execution_count": 51,
     "metadata": {},
     "output_type": "execute_result"
    }
   ],
   "source": [
    "X = np.zeros((10,4))\n",
    "X = torch.Tensor(X).long().cuda()\n",
    "X = Variable(X)\n",
    "\n",
    "out = model(X, model.init_hidden())\n",
    "out[0].size()"
   ]
  }
 ],
 "metadata": {
  "kernelspec": {
   "display_name": "Python 3",
   "language": "python",
   "name": "python3"
  },
  "language_info": {
   "codemirror_mode": {
    "name": "ipython",
    "version": 3
   },
   "file_extension": ".py",
   "mimetype": "text/x-python",
   "name": "python",
   "nbconvert_exporter": "python",
   "pygments_lexer": "ipython3",
   "version": "3.5.2"
  }
 },
 "nbformat": 4,
 "nbformat_minor": 2
}
