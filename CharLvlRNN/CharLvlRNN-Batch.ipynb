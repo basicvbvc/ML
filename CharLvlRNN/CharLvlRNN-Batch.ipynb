{
 "cells": [
  {
   "cell_type": "code",
   "execution_count": 67,
   "metadata": {
    "collapsed": true
   },
   "outputs": [],
   "source": [
    "import torch\n",
    "import torch.nn as nn\n",
    "from torch.autograd import Variable\n",
    "from torch.utils.data import Dataset, DataLoader\n",
    "\n",
    "\n",
    "import numpy as np\n",
    "import string\n",
    "from tqdm import tqdm_notebook"
   ]
  },
  {
   "cell_type": "code",
   "execution_count": 68,
   "metadata": {
    "collapsed": true
   },
   "outputs": [],
   "source": [
    "all_letters = string.ascii_letters + \" .,;'\"\n",
    "onGPU = False"
   ]
  },
  {
   "cell_type": "code",
   "execution_count": 69,
   "metadata": {},
   "outputs": [],
   "source": [
    "def read_data():\n",
    "    data_path = 'data/HPserie/HPSerie'\n",
    "    with open(data_path, 'r') as myfile:\n",
    "        data=myfile.read().replace('\\n', '')\n",
    "    return data\n",
    "\n",
    "class TextDataset(Dataset):\n",
    "    def __init__(self, data, seq_len, strided=True):\n",
    "        self.data = data\n",
    "        self.seq_len = seq_len\n",
    "        self.strided = strided\n",
    "        \n",
    "    def __len__(self):\n",
    "        if self.strided:\n",
    "            return len(self.data) // (self.seq_len + 1)\n",
    "        else:\n",
    "            return len(self.data) - self.seq_len - 1\n",
    "        \n",
    "    def __getitem__(self, idx):\n",
    "        step = self.seq_len + 1\n",
    "        if self.strided:\n",
    "            seq = self.data[idx*step:idx*step + step]\n",
    "        else:\n",
    "            seq = self.data[idx:idx+step]\n",
    "        return {'X': np.array(seq[0:-1]),\n",
    "                'Y': np.array(seq[1:])}\n",
    "    \n",
    "data = read_data()\n",
    "data = [x for x in data if x in all_letters]\n",
    "\n",
    "char_to_idx = {x: i for i,x in enumerate(all_letters)}\n",
    "idx_to_char = {v: k for k,v in char_to_idx.items()}\n",
    "\n",
    "data_enc = [char_to_idx[x] for x in data]\n",
    "    \n",
    "    \n",
    "dataset = TextDataset(data_enc, 10)\n",
    "dataloader = DataLoader(dataset, batch_size=5,\n",
    "                        shuffle=True, num_workers=4)"
   ]
  },
  {
   "cell_type": "code",
   "execution_count": 70,
   "metadata": {},
   "outputs": [],
   "source": [
    "class RNN(nn.Module):\n",
    "    def __init__(self, input_size, hidden_size, output_size, n_layers=1):\n",
    "        super(RNN, self).__init__()\n",
    "        self.input_size = input_size\n",
    "        self.hidden_size = hidden_size\n",
    "        self.output_size = output_size\n",
    "        self.n_layers = n_layers\n",
    "\n",
    "        self.encoder = nn.Embedding(input_size, hidden_size)\n",
    "        self.gru = nn.GRU(hidden_size, hidden_size, n_layers)\n",
    "        self.decoder = nn.Linear(hidden_size, output_size)\n",
    "\n",
    "    def forward(self, input, hidden, seq_len, batch_size):\n",
    "        input = self.encoder(input)\n",
    "        output, hidden = self.gru(input.view(seq_len, batch_size, -1), hidden)\n",
    "        output = self.decoder(output.view(-1, self.hidden_size))\n",
    "        output = output.view(seq_len, batch_size, self.output_size)\n",
    "        return output, hidden\n",
    "\n",
    "    def init_hidden(self, batch_size):\n",
    "        if onGPU:\n",
    "            return Variable(torch.zeros(self.n_layers, batch_size, self.hidden_size).cuda())\n",
    "        else:\n",
    "            return Variable(torch.zeros(self.n_layers, batch_size, self.hidden_size))"
   ]
  },
  {
   "cell_type": "code",
   "execution_count": 71,
   "metadata": {},
   "outputs": [],
   "source": [
    "input_size = len(all_letters)\n",
    "hidden_size = 100\n",
    "n_layers = 3\n",
    "\n",
    "print_every = 50 \n",
    "plot_every = 100\n",
    "epochs = 10\n",
    "\n",
    "\n",
    "model = RNN(input_size, hidden_size, input_size, n_layers)\n",
    "model_optimizer = torch.optim.Adam(model.parameters())\n",
    "\n",
    "if onGPU:\n",
    "    model.cuda()"
   ]
  },
  {
   "cell_type": "code",
   "execution_count": 72,
   "metadata": {
    "collapsed": true
   },
   "outputs": [],
   "source": [
    "criterion = nn.CrossEntropyLoss()\n",
    "\n",
    "def train(inp, target):\n",
    "    hidden = model.init_hidden(inp.size()[1])\n",
    "    model.zero_grad()\n",
    "    loss = 0\n",
    "\n",
    "    output, hidden = model(inp, hidden, inp.size()[0], inp.size()[1])\n",
    "    output = output.view(-1, model.output_size)\n",
    "    loss = criterion(output, target.contiguous().view(-1))\n",
    "\n",
    "    loss.backward()\n",
    "    model_optimizer.step()\n",
    "\n",
    "    return loss.data[0]"
   ]
  },
  {
   "cell_type": "code",
   "execution_count": null,
   "metadata": {},
   "outputs": [
    {
     "data": {
      "application/vnd.jupyter.widget-view+json": {
       "model_id": "218e8fc90b794db6acf613d6cf84a078"
      }
     },
     "metadata": {},
     "output_type": "display_data"
    },
    {
     "name": "stdout",
     "output_type": "stream",
     "text": [
      "\n",
      "\n",
      "\n",
      "\n"
     ]
    }
   ],
   "source": [
    "loss_avg = 0\n",
    "losses = []\n",
    "\n",
    "for epoch in range(1, epochs+1):\n",
    "    bar = tqdm_notebook(dataloader, total=dataloader.__len__())\n",
    "    for s in bar:\n",
    "        X_enc, Y_enc = (s['X'].t(), s['Y'].t())\n",
    "        if onGPU:\n",
    "            loss = train(Variable(X_enc).cuda(), Variable(Y_enc).cuda())       \n",
    "        else:\n",
    "            loss = train(Variable(X_enc), Variable(Y_enc))       \n",
    "        loss_avg += loss\n",
    "        \n",
    "        bar.set_postfix(loss=loss)\n",
    "        if b == batch_per_epoch-1:\n",
    "            bar.write(loss_avg / batch_per_epoch)\n",
    "            loss_avg = 0"
   ]
  },
  {
   "cell_type": "code",
   "execution_count": null,
   "metadata": {
    "collapsed": true
   },
   "outputs": [],
   "source": []
  }
 ],
 "metadata": {
  "kernelspec": {
   "display_name": "Python 3",
   "language": "python",
   "name": "python3"
  },
  "language_info": {
   "codemirror_mode": {
    "name": "ipython",
    "version": 3
   },
   "file_extension": ".py",
   "mimetype": "text/x-python",
   "name": "python",
   "nbconvert_exporter": "python",
   "pygments_lexer": "ipython3",
   "version": "3.6.1"
  }
 },
 "nbformat": 4,
 "nbformat_minor": 2
}
