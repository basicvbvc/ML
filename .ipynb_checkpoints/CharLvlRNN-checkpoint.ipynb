{
 "cells": [
  {
   "cell_type": "code",
   "execution_count": 12,
   "metadata": {
    "collapsed": true
   },
   "outputs": [],
   "source": [
    "import torch\n",
    "import torch.nn as nn\n",
    "from torch.autograd import Variable\n",
    "\n",
    "import numpy as np\n",
    "import string\n",
    "from tqdm import trange\n",
    "\n",
    "all_letters = string.ascii_letters + \" .,;'\"\n",
    "\n",
    "def read_data():\n",
    "    data_path = 'data/HPserie/HPSerie'\n",
    "    with open(data_path, 'r') as myfile:\n",
    "        data=myfile.read().replace('\\n', '')\n",
    "\n",
    "    return data\n",
    "\n",
    "def seq_gen(data, seq_len):\n",
    "    total_size = len(data)\n",
    "    ex_len = seq_len + 1\n",
    "    idxs = list(range(0, total_size, ex_len))\n",
    "    np.random.shuffle(idxs)\n",
    "    yield len(idxs)\n",
    "    while True:\n",
    "        for idx in idxs:\n",
    "            d = data[idx:idx + ex_len]\n",
    "            X = d[0:-1]\n",
    "            Y = d[1:]\n",
    "            X_txt = ''.join(X)\n",
    "            Y_txt = ''.join(Y)\n",
    "            X_encoded = Variable(torch.Tensor([char_to_idx[x] for x in X]).long().cuda())\n",
    "            Y_encoded = Variable(torch.Tensor([char_to_idx[x] for x in Y]).long().cuda())\n",
    "            \n",
    "            yield X_txt, Y_txt, X_encoded, Y_encoded\n",
    "        np.random.shuffle(idxs)\n",
    "    \n",
    "\n",
    "data = read_data()\n",
    "data = [x for x in data if x in all_letters]\n",
    "\n",
    "\n",
    "char_to_idx = {x: i for i,x in enumerate(all_letters)}\n",
    "idx_to_char = {v: k for k,v in char_to_idx.items()}"
   ]
  },
  {
   "cell_type": "code",
   "execution_count": 13,
   "metadata": {
    "collapsed": true
   },
   "outputs": [],
   "source": [
    "class RNN(nn.Module):\n",
    "    def __init__(self, input_size, hidden_size, output_size, n_layers=1):\n",
    "        super(RNN, self).__init__()\n",
    "        self.input_size = input_size\n",
    "        self.hidden_size = hidden_size\n",
    "        self.output_size = output_size\n",
    "        self.n_layers = n_layers\n",
    "\n",
    "        self.encoder = nn.Embedding(input_size, hidden_size)\n",
    "        self.gru = nn.GRU(hidden_size, hidden_size, n_layers)\n",
    "        self.decoder = nn.Linear(hidden_size, output_size)\n",
    "\n",
    "    def forward(self, input, hidden):\n",
    "        input = self.encoder(input.view(1, -1))\n",
    "        output, hidden = self.gru(input.view(1, 1, -1), hidden)\n",
    "        output = self.decoder(output.view(1, -1))\n",
    "        return output, hidden\n",
    "\n",
    "    def init_hidden(self):\n",
    "        return Variable(torch.zeros(self.n_layers, 1, self.hidden_size).cuda())"
   ]
  },
  {
   "cell_type": "code",
   "execution_count": 14,
   "metadata": {},
   "outputs": [
    {
     "data": {
      "text/plain": [
       "RNN (\n",
       "  (encoder): Embedding(57, 100)\n",
       "  (gru): GRU(100, 100)\n",
       "  (decoder): Linear (100 -> 57)\n",
       ")"
      ]
     },
     "execution_count": 14,
     "metadata": {},
     "output_type": "execute_result"
    }
   ],
   "source": [
    "input_size = len(all_letters)\n",
    "hidden_size = 100\n",
    "n_layers = 1\n",
    "\n",
    "print_every = 50 \n",
    "plot_every = 100\n",
    "epochs = 2\n",
    "\n",
    "\n",
    "model = RNN(input_size, hidden_size, input_size, n_layers)\n",
    "model_optimizer = torch.optim.Adam(model.parameters())\n",
    "\n",
    "model.cuda()"
   ]
  },
  {
   "cell_type": "code",
   "execution_count": 15,
   "metadata": {
    "collapsed": true
   },
   "outputs": [],
   "source": [
    "criterion = nn.CrossEntropyLoss()\n",
    "\n",
    "def train(inp, target):\n",
    "    hidden = model.init_hidden()\n",
    "    model.zero_grad()\n",
    "    loss = 0\n",
    "\n",
    "    for c in range(len(inp)):\n",
    "        output, hidden = model(inp[c], hidden)\n",
    "        loss += criterion(output, target[c])\n",
    "\n",
    "    loss.backward()\n",
    "    model_optimizer.step()\n",
    "\n",
    "    return loss.data[0] / float(len(inp))"
   ]
  },
  {
   "cell_type": "code",
   "execution_count": 16,
   "metadata": {},
   "outputs": [
    {
     "ename": "NameError",
     "evalue": "name 'loss_av' is not defined",
     "output_type": "error",
     "traceback": [
      "\u001b[0;31m---------------------------------------------------------------------------\u001b[0m",
      "\u001b[0;31mNameError\u001b[0m                                 Traceback (most recent call last)",
      "\u001b[0;32m<ipython-input-16-e41ed5a3d002>\u001b[0m in \u001b[0;36m<module>\u001b[0;34m()\u001b[0m\n\u001b[1;32m     13\u001b[0m         \u001b[0;32mif\u001b[0m \u001b[0mb\u001b[0m \u001b[0;34m%\u001b[0m \u001b[0mprint_every\u001b[0m \u001b[0;34m==\u001b[0m \u001b[0;36m0\u001b[0m\u001b[0;34m:\u001b[0m\u001b[0;34m\u001b[0m\u001b[0m\n\u001b[1;32m     14\u001b[0m             \u001b[0mprogress\u001b[0m \u001b[0;34m=\u001b[0m \u001b[0;34m\"{0:0=.2f}%\"\u001b[0m\u001b[0;34m.\u001b[0m\u001b[0mformat\u001b[0m\u001b[0;34m(\u001b[0m\u001b[0;36m100\u001b[0m \u001b[0;34m*\u001b[0m \u001b[0mfloat\u001b[0m\u001b[0;34m(\u001b[0m\u001b[0mb\u001b[0m\u001b[0;34m)\u001b[0m \u001b[0;34m/\u001b[0m \u001b[0mfloat\u001b[0m\u001b[0;34m(\u001b[0m\u001b[0mbatch_per_epoch\u001b[0m\u001b[0;34m)\u001b[0m\u001b[0;34m)\u001b[0m\u001b[0;34m\u001b[0m\u001b[0m\n\u001b[0;32m---> 15\u001b[0;31m             \u001b[0mprint\u001b[0m\u001b[0;34m(\u001b[0m\u001b[0;34m'Epoch Progress: '\u001b[0m\u001b[0;34m,\u001b[0m \u001b[0mprogress\u001b[0m\u001b[0;34m,\u001b[0m \u001b[0;34m' -- '\u001b[0m \u001b[0;34m+\u001b[0m \u001b[0;34m'Loss: '\u001b[0m \u001b[0;34m,\u001b[0m \u001b[0mloss_av\u001b[0m\u001b[0;34m)\u001b[0m\u001b[0;34m\u001b[0m\u001b[0m\n\u001b[0m\u001b[1;32m     16\u001b[0m \u001b[0;34m\u001b[0m\u001b[0m\n\u001b[1;32m     17\u001b[0m         \u001b[0;32mif\u001b[0m \u001b[0mb\u001b[0m \u001b[0;34m%\u001b[0m \u001b[0mplot_every\u001b[0m \u001b[0;34m==\u001b[0m \u001b[0;36m100\u001b[0m\u001b[0;34m:\u001b[0m\u001b[0;34m\u001b[0m\u001b[0m\n",
      "\u001b[0;31mNameError\u001b[0m: name 'loss_av' is not defined"
     ]
    }
   ],
   "source": [
    "G = seq_gen(data, 200)\n",
    "batch_per_epoch = next(G)\n",
    "\n",
    "loss_avg = 0\n",
    "losses = []\n",
    "\n",
    "for epoch in range(1, epochs+1):\n",
    "    for b in range(batch_per_epoch):\n",
    "        X_txt, Y_txt, X_enc, Y_enc = next(G)\n",
    "        loss = train(X_enc, Y_enc)       \n",
    "        loss_avg += loss\n",
    "        \n",
    "        if b % print_every == 0:\n",
    "            progress = \"{0:0=.2f}%\".format(100 * float(b) / float(batch_per_epoch))\n",
    "            print('Epoch Progress: ', progress, ' -- ' + 'Loss: ' , loss)\n",
    "            \n",
    "        if b % plot_every == 100:\n",
    "            losses.append(loss_avg / plot_every)\n",
    "            loss_avg = 0\n",
    "    "
   ]
  },
  {
   "cell_type": "code",
   "execution_count": null,
   "metadata": {
    "collapsed": true
   },
   "outputs": [],
   "source": []
  }
 ],
 "metadata": {
  "kernelspec": {
   "display_name": "Python 3",
   "language": "python",
   "name": "python3"
  },
  "language_info": {
   "codemirror_mode": {
    "name": "ipython",
    "version": 3
   },
   "file_extension": ".py",
   "mimetype": "text/x-python",
   "name": "python",
   "nbconvert_exporter": "python",
   "pygments_lexer": "ipython3",
   "version": "3.5.2"
  }
 },
 "nbformat": 4,
 "nbformat_minor": 2
}
