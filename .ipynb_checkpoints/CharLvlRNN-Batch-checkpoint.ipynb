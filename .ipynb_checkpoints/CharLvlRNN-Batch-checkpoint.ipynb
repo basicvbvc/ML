{
 "cells": [
  {
   "cell_type": "code",
   "execution_count": 10,
   "metadata": {
    "collapsed": true
   },
   "outputs": [],
   "source": [
    "import torch\n",
    "import torch.nn as nn\n",
    "from torch.autograd import Variable\n",
    "from torch.utils.data import Dataset, DataLoader\n",
    "\n",
    "\n",
    "import numpy as np\n",
    "import string\n",
    "from tqdm import tqdm_notebook"
   ]
  },
  {
   "cell_type": "code",
   "execution_count": 11,
   "metadata": {
    "collapsed": true
   },
   "outputs": [],
   "source": [
    "all_letters = string.ascii_letters + \" .,;'\"\n",
    "onGPU = False"
   ]
  },
  {
   "cell_type": "code",
   "execution_count": 3,
   "metadata": {
    "collapsed": true
   },
   "outputs": [],
   "source": [
    "def read_data():\n",
    "    data_path = 'data/HPserie/HPSerie'\n",
    "    with open(data_path, 'r') as myfile:\n",
    "        data=myfile.read().replace('\\n', '')\n",
    "    return data\n",
    "\n",
    "def seq_gen(data, data_enc, seq_len, batch_size):\n",
    "    total_size = len(data)\n",
    "    ex_len = seq_len + 1\n",
    "    idxs = list(range(0, total_size-200, ex_len))\n",
    "    np.random.shuffle(idxs)\n",
    "    \n",
    "    yield len(idxs) // batch_size \n",
    "    while True:\n",
    "        batches = np.array_split(idxs, len(idxs) // batch_size)    \n",
    "        for batch in batches:\n",
    "            X = [data[i:i+seq_len] for i in batch]\n",
    "            Y = [data[i+1:i+1+seq_len] for i in batch]\n",
    "            if onGPU:\n",
    "                X_enc = torch.Tensor([data_enc[i:i+seq_len] for i in batch]).t().long().cuda() \n",
    "                Y_enc = torch.Tensor([data_enc[i+1:i+1+seq_len] for i in batch]).t().long().cuda()            \n",
    "            else:\n",
    "                X_enc = torch.Tensor([data_enc[i:i+seq_len] for i in batch]).t().long() \n",
    "                Y_enc = torch.Tensor([data_enc[i+1:i+1+seq_len] for i in batch]).t().long()\n",
    "             \n",
    "            yield Variable(X_enc), Variable(Y_enc)\n",
    "        np.random.shuffle(idxs)\n",
    "    \n",
    "\n",
    "data = read_data()\n",
    "data = [x for x in data if x in all_letters]\n",
    "\n",
    "char_to_idx = {x: i for i,x in enumerate(all_letters)}\n",
    "idx_to_char = {v: k for k,v in char_to_idx.items()}\n",
    "\n",
    "data_enc = [char_to_idx[x] for x in data]"
   ]
  },
  {
   "cell_type": "code",
   "execution_count": 25,
   "metadata": {},
   "outputs": [
    {
     "name": "stdout",
     "output_type": "stream",
     "text": [
      "torch.Size([5, 10, 1])\n",
      "\n",
      " 14\n",
      " 17\n",
      "  4\n",
      " 52\n",
      "  1\n",
      "  0\n",
      " 19\n",
      " 19\n",
      " 24\n",
      " 52\n",
      "[torch.LongTensor of size 10]\n",
      "\n",
      "\n",
      " 14\n",
      " 17\n",
      "  4\n",
      " 52\n",
      "  1\n",
      "  0\n",
      " 19\n",
      " 19\n",
      " 24\n",
      " 52\n",
      "[torch.LongTensor of size 10]\n",
      "\n"
     ]
    }
   ],
   "source": [
    "def read_data():\n",
    "    data_path = 'data/HPserie/HPSerie'\n",
    "    with open(data_path, 'r') as myfile:\n",
    "        data=myfile.read().replace('\\n', '')\n",
    "    return data\n",
    "\n",
    "class TextDataset(Dataset):\n",
    "    def __init__(self, data, seq_len, strided=True):\n",
    "        self.data = data\n",
    "        self.seq_len = seq_len\n",
    "        self.strided = strided\n",
    "        \n",
    "    def __len__(self):\n",
    "        if self.strided:\n",
    "            return len(self.data) // (self.seq_len + 1)\n",
    "        else:\n",
    "            return len(self.data) - self.seq_len - 1\n",
    "        \n",
    "    def __getitem__(self, idx):\n",
    "        step = self.seq_len + 1\n",
    "        if self.strided:\n",
    "            seq = self.data[idx*step:idx*step + step]\n",
    "        else:\n",
    "            seq = self.data[idx:idx+step]\n",
    "        return {'X': np.array(seq[0:-1])[..., np.newaxis],\n",
    "                'Y': np.array(seq[1:])}\n",
    "    \n",
    "data = read_data()\n",
    "data = [x for x in data if x in all_letters]\n",
    "\n",
    "char_to_idx = {x: i for i,x in enumerate(all_letters)}\n",
    "idx_to_char = {v: k for k,v in char_to_idx.items()}\n",
    "\n",
    "data_enc = [char_to_idx[x] for x in data]\n",
    "    \n",
    "    \n",
    "dataset = TextDataset(data_enc, 10)\n",
    "dataloader = DataLoader(dataset, batch_size=5,\n",
    "                        shuffle=True, num_workers=4)\n",
    "\n",
    "for s in dataloader:\n",
    "    print(s['X'].size())\n",
    "    print(s['X'][1,:,0])\n",
    "    print(s['X'].permute(1,0,2)[:,1,0])\n",
    "    break\n",
    "    "
   ]
  },
  {
   "cell_type": "code",
   "execution_count": 5,
   "metadata": {},
   "outputs": [],
   "source": [
    "class RNN(nn.Module):\n",
    "    def __init__(self, input_size, hidden_size, output_size, n_layers=1):\n",
    "        super(RNN, self).__init__()\n",
    "        self.input_size = input_size\n",
    "        self.hidden_size = hidden_size\n",
    "        self.output_size = output_size\n",
    "        self.n_layers = n_layers\n",
    "\n",
    "        self.encoder = nn.Embedding(input_size, hidden_size)\n",
    "        self.gru = nn.GRU(hidden_size, hidden_size, n_layers)\n",
    "        self.decoder = nn.Linear(hidden_size, output_size)\n",
    "\n",
    "    def forward(self, input, hidden, seq_len, batch_size):\n",
    "        input = self.encoder(input)\n",
    "        output, hidden = self.gru(input.view(seq_len, batch_size, -1), hidden)\n",
    "        output = self.decoder(output.view(-1, self.hidden_size))\n",
    "        output = output.view(seq_len, batch_size, self.output_size)\n",
    "        return output, hidden\n",
    "\n",
    "    def init_hidden(self, batch_size):\n",
    "        if onGPU:\n",
    "            return Variable(torch.zeros(self.n_layers, batch_size, self.hidden_size).cuda())\n",
    "        else:\n",
    "            return Variable(torch.zeros(self.n_layers, batch_size, self.hidden_size))"
   ]
  },
  {
   "cell_type": "code",
   "execution_count": 6,
   "metadata": {
    "collapsed": true
   },
   "outputs": [],
   "source": [
    "input_size = len(all_letters)\n",
    "hidden_size = 100\n",
    "n_layers = 3\n",
    "\n",
    "print_every = 50 \n",
    "plot_every = 100\n",
    "epochs = 10\n",
    "\n",
    "\n",
    "model = RNN(input_size, hidden_size, input_size, n_layers)\n",
    "model_optimizer = torch.optim.Adam(model.parameters())\n",
    "\n",
    "if onGPU:\n",
    "    model.cuda()"
   ]
  },
  {
   "cell_type": "code",
   "execution_count": 7,
   "metadata": {
    "collapsed": true
   },
   "outputs": [],
   "source": [
    "criterion = nn.CrossEntropyLoss()\n",
    "\n",
    "def train(inp, target):\n",
    "    hidden = model.init_hidden(inp.size()[1])\n",
    "    model.zero_grad()\n",
    "    loss = 0\n",
    "\n",
    "    output, hidden = model(inp, hidden, inp.size()[0], inp.size()[1])\n",
    "    output = output.view(-1, model.output_size)\n",
    "    loss = criterion(output, target.view(-1))\n",
    "\n",
    "    loss.backward()\n",
    "    model_optimizer.step()\n",
    "\n",
    "    return loss.data[0]"
   ]
  },
  {
   "cell_type": "code",
   "execution_count": 8,
   "metadata": {},
   "outputs": [
    {
     "data": {
      "application/vnd.jupyter.widget-view+json": {
       "model_id": "fc8bd4ea43a74e48b4435707e1a6e92a"
      }
     },
     "metadata": {},
     "output_type": "display_data"
    },
    {
     "ename": "KeyboardInterrupt",
     "evalue": "",
     "output_type": "error",
     "traceback": [
      "\u001b[0;31m---------------------------------------------------------------------------\u001b[0m",
      "\u001b[0;31mKeyboardInterrupt\u001b[0m                         Traceback (most recent call last)",
      "\u001b[0;32m<ipython-input-8-970e564de9ae>\u001b[0m in \u001b[0;36m<module>\u001b[0;34m()\u001b[0m\n\u001b[1;32m      9\u001b[0m     \u001b[0;32mfor\u001b[0m \u001b[0mb\u001b[0m \u001b[0;32min\u001b[0m \u001b[0mbar\u001b[0m\u001b[0;34m:\u001b[0m\u001b[0;34m\u001b[0m\u001b[0m\n\u001b[1;32m     10\u001b[0m         \u001b[0mX_enc\u001b[0m\u001b[0;34m,\u001b[0m \u001b[0mY_enc\u001b[0m \u001b[0;34m=\u001b[0m \u001b[0mnext\u001b[0m\u001b[0;34m(\u001b[0m\u001b[0mG\u001b[0m\u001b[0;34m)\u001b[0m\u001b[0;34m\u001b[0m\u001b[0m\n\u001b[0;32m---> 11\u001b[0;31m         \u001b[0mloss\u001b[0m \u001b[0;34m=\u001b[0m \u001b[0mtrain\u001b[0m\u001b[0;34m(\u001b[0m\u001b[0mX_enc\u001b[0m\u001b[0;34m,\u001b[0m \u001b[0mY_enc\u001b[0m\u001b[0;34m)\u001b[0m\u001b[0;34m\u001b[0m\u001b[0m\n\u001b[0m\u001b[1;32m     12\u001b[0m         \u001b[0mloss_avg\u001b[0m \u001b[0;34m+=\u001b[0m \u001b[0mloss\u001b[0m\u001b[0;34m\u001b[0m\u001b[0m\n\u001b[1;32m     13\u001b[0m \u001b[0;34m\u001b[0m\u001b[0m\n",
      "\u001b[0;32m<ipython-input-7-cfd694abf98c>\u001b[0m in \u001b[0;36mtrain\u001b[0;34m(inp, target)\u001b[0m\n\u001b[1;32m     10\u001b[0m     \u001b[0mloss\u001b[0m \u001b[0;34m=\u001b[0m \u001b[0mcriterion\u001b[0m\u001b[0;34m(\u001b[0m\u001b[0moutput\u001b[0m\u001b[0;34m,\u001b[0m \u001b[0mtarget\u001b[0m\u001b[0;34m.\u001b[0m\u001b[0mview\u001b[0m\u001b[0;34m(\u001b[0m\u001b[0;34m-\u001b[0m\u001b[0;36m1\u001b[0m\u001b[0;34m)\u001b[0m\u001b[0;34m)\u001b[0m\u001b[0;34m\u001b[0m\u001b[0m\n\u001b[1;32m     11\u001b[0m \u001b[0;34m\u001b[0m\u001b[0m\n\u001b[0;32m---> 12\u001b[0;31m     \u001b[0mloss\u001b[0m\u001b[0;34m.\u001b[0m\u001b[0mbackward\u001b[0m\u001b[0;34m(\u001b[0m\u001b[0;34m)\u001b[0m\u001b[0;34m\u001b[0m\u001b[0m\n\u001b[0m\u001b[1;32m     13\u001b[0m     \u001b[0mmodel_optimizer\u001b[0m\u001b[0;34m.\u001b[0m\u001b[0mstep\u001b[0m\u001b[0;34m(\u001b[0m\u001b[0;34m)\u001b[0m\u001b[0;34m\u001b[0m\u001b[0m\n\u001b[1;32m     14\u001b[0m \u001b[0;34m\u001b[0m\u001b[0m\n",
      "\u001b[0;32m/usr/lib/python3.6/site-packages/torch/autograd/variable.py\u001b[0m in \u001b[0;36mbackward\u001b[0;34m(self, gradient, retain_variables)\u001b[0m\n\u001b[1;32m    144\u001b[0m                     'or with gradient w.r.t. the variable')\n\u001b[1;32m    145\u001b[0m             \u001b[0mgradient\u001b[0m \u001b[0;34m=\u001b[0m \u001b[0mself\u001b[0m\u001b[0;34m.\u001b[0m\u001b[0mdata\u001b[0m\u001b[0;34m.\u001b[0m\u001b[0mnew\u001b[0m\u001b[0;34m(\u001b[0m\u001b[0;34m)\u001b[0m\u001b[0;34m.\u001b[0m\u001b[0mresize_as_\u001b[0m\u001b[0;34m(\u001b[0m\u001b[0mself\u001b[0m\u001b[0;34m.\u001b[0m\u001b[0mdata\u001b[0m\u001b[0;34m)\u001b[0m\u001b[0;34m.\u001b[0m\u001b[0mfill_\u001b[0m\u001b[0;34m(\u001b[0m\u001b[0;36m1\u001b[0m\u001b[0;34m)\u001b[0m\u001b[0;34m\u001b[0m\u001b[0m\n\u001b[0;32m--> 146\u001b[0;31m         \u001b[0mself\u001b[0m\u001b[0;34m.\u001b[0m\u001b[0m_execution_engine\u001b[0m\u001b[0;34m.\u001b[0m\u001b[0mrun_backward\u001b[0m\u001b[0;34m(\u001b[0m\u001b[0;34m(\u001b[0m\u001b[0mself\u001b[0m\u001b[0;34m,\u001b[0m\u001b[0;34m)\u001b[0m\u001b[0;34m,\u001b[0m \u001b[0;34m(\u001b[0m\u001b[0mgradient\u001b[0m\u001b[0;34m,\u001b[0m\u001b[0;34m)\u001b[0m\u001b[0;34m,\u001b[0m \u001b[0mretain_variables\u001b[0m\u001b[0;34m)\u001b[0m\u001b[0;34m\u001b[0m\u001b[0m\n\u001b[0m\u001b[1;32m    147\u001b[0m \u001b[0;34m\u001b[0m\u001b[0m\n\u001b[1;32m    148\u001b[0m     \u001b[0;32mdef\u001b[0m \u001b[0mregister_hook\u001b[0m\u001b[0;34m(\u001b[0m\u001b[0mself\u001b[0m\u001b[0;34m,\u001b[0m \u001b[0mhook\u001b[0m\u001b[0;34m)\u001b[0m\u001b[0;34m:\u001b[0m\u001b[0;34m\u001b[0m\u001b[0m\n",
      "\u001b[0;31mKeyboardInterrupt\u001b[0m: "
     ]
    },
    {
     "name": "stdout",
     "output_type": "stream",
     "text": [
      "\r",
      "          \r",
      "234/|/  0%|| 234/116117 [00:30<4:07:46,  7.80it/s, loss=2.34]"
     ]
    }
   ],
   "source": [
    "G = seq_gen(data, data_enc, 10, 5)\n",
    "batch_per_epoch = next(G)\n",
    "\n",
    "loss_avg = 0\n",
    "losses = []\n",
    "\n",
    "for epoch in range(1, epochs+1):\n",
    "    bar = tqdm_notebook(dataloader)\n",
    "    for s in bar:\n",
    "        X_enc, Y_enc = (s['X'], s['Y'])\n",
    "        loss = train(X_enc, Y_enc)       \n",
    "        loss_avg += loss\n",
    "        \n",
    "        bar.set_postfix(loss=loss)\n",
    "        if b == batch_per_epoch-1:\n",
    "            bar.write(loss_avg / batch_per_epoch)\n",
    "            loss_avg = 0"
   ]
  },
  {
   "cell_type": "code",
   "execution_count": null,
   "metadata": {
    "collapsed": true
   },
   "outputs": [],
   "source": []
  }
 ],
 "metadata": {
  "kernelspec": {
   "display_name": "Python 3",
   "language": "python",
   "name": "python3"
  },
  "language_info": {
   "codemirror_mode": {
    "name": "ipython",
    "version": 3
   },
   "file_extension": ".py",
   "mimetype": "text/x-python",
   "name": "python",
   "nbconvert_exporter": "python",
   "pygments_lexer": "ipython3",
   "version": "3.6.1"
  }
 },
 "nbformat": 4,
 "nbformat_minor": 2
}
