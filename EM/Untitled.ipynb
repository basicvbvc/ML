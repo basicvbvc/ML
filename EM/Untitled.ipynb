{
 "cells": [
  {
   "cell_type": "code",
   "execution_count": 159,
   "metadata": {},
   "outputs": [],
   "source": [
    "import numpy as np\n",
    "from scipy.stats import norm\n",
    "\n",
    "from easydict import EasyDict as edict\n",
    "\n",
    "from copy import deepcopy\n",
    "\n",
    "from tqdm import tqdm_notebook\n",
    "\n",
    "import matplotlib.pyplot as plt\n",
    "from matplotlib import cm\n",
    "%matplotlib tk\n",
    "plt.style.use('ggplot')"
   ]
  },
  {
   "cell_type": "code",
   "execution_count": 160,
   "metadata": {
    "collapsed": true
   },
   "outputs": [],
   "source": [
    "cmap = cm.Set1"
   ]
  },
  {
   "cell_type": "code",
   "execution_count": 161,
   "metadata": {
    "collapsed": true
   },
   "outputs": [],
   "source": [
    "def new_state():\n",
    "    state = edict({\n",
    "        'points': [],\n",
    "        'labels': [],\n",
    "        'real_dists': [],\n",
    "        'real_labels'\n",
    "        'curr_dists': [],\n",
    "        'curr_labels': []\n",
    "    })\n",
    "    return state"
   ]
  },
  {
   "cell_type": "code",
   "execution_count": 162,
   "metadata": {},
   "outputs": [],
   "source": [
    "def plot_state(s):\n",
    "    plt.figure()\n",
    "    ax1 = plt.subplot(2, 1, 1)\n",
    "    support = np.linspace(min(s.points), max(s.points), len(s.points))\n",
    "    n = len(s.points)\n",
    "    plt.scatter(x=s.points, y=[1]*n, c=cmap(s.real_labels))\n",
    "    \n",
    "    def plot_dists(ax, dists, labels, h, f=0):\n",
    "        z = [(p[0].pdf(support), p[1]) for p in zip(dists, labels)]\n",
    "        m = max([p[0].max() for p in z])\n",
    "        up = 1 + m * 0.1\n",
    "        for pdf,lab in z:\n",
    "            pdf += up\n",
    "            ax.plot(support, pdf, \n",
    "                     color=cmap(lab+f))\n",
    "            ax.fill_between(support, pdf, [up]*n,\n",
    "                        alpha=0.2, color=cmap(lab+f), hatch=h)\n",
    "        ax.plot(support, [up]*n, c='black')\n",
    "        \n",
    "        \n",
    "    plot_dists(ax1, s.real_dists, s.labels, None)\n",
    "    \n",
    "    ax2 = plt.subplot(2,1,2)\n",
    "    ax2.scatter(x=s.points, y=[1]*n, c=cmap(np.array(s.curr_labels) + 5))\n",
    "    if s.curr_dists:\n",
    "        plot_dists(ax2, s.curr_dists, s.labels, 'X', 5)    \n",
    "        \n",
    "    plt.show()"
   ]
  },
  {
   "cell_type": "code",
   "execution_count": 163,
   "metadata": {
    "collapsed": true
   },
   "outputs": [],
   "source": [
    "def gen_cluster():\n",
    "    n_clusters = 3\n",
    "    n_points = 100\n",
    "    params = [(np.random.randint(0,500), np.random.uniform(3,10)) \n",
    "              for i in range(n_clusters)]\n",
    "    dists = [norm(loc=p[0], scale=p[1]) for p in params]\n",
    "    \n",
    "    r_labs = np.repeat(range(n_clusters), n_points)\n",
    "    points = [np.random.normal(params[i][0], params[i][1]) for i in r_labs]\n",
    "    \n",
    "    state = new_state()\n",
    "    state.points = points\n",
    "    state.real_labels = r_labs\n",
    "    state.real_dists = dists\n",
    "    state.labels = range(n_clusters)\n",
    "    \n",
    "    return state"
   ]
  },
  {
   "cell_type": "code",
   "execution_count": 202,
   "metadata": {
    "collapsed": true
   },
   "outputs": [],
   "source": [
    "def E_step(state):\n",
    "    def assign_lab(p, dists):\n",
    "        point_likelihood = [dist.pdf(p) for dist in dists]\n",
    "        return np.argmax(point_likelihood)\n",
    "    \n",
    "    s = deepcopy(state)\n",
    "    s.curr_labels = [assign_lab(pt, s.curr_dists) for pt in s.points]\n",
    "    return s\n",
    "\n",
    "def M_step(state):\n",
    "    def new_pdf(points):\n",
    "        if len(points) == 0:\n",
    "            return norm(np.mean(s.points), np.std(s.points)/5)\n",
    "        mean = np.mean(points)\n",
    "        std = np.std(points)\n",
    "        return norm(loc=mean, scale=std)\n",
    "    \n",
    "    s = deepcopy(state)\n",
    "    \n",
    "    new_dists = range(len(s.curr_dists))\n",
    "    new_dists = [new_pdf([x[0] for x in zip(s.points, s.curr_labels)\n",
    "                         if x[1] == i]) for i in new_dists]\n",
    "    s.curr_dists = new_dists\n",
    "    return s\n",
    "    \n",
    "        "
   ]
  },
  {
   "cell_type": "code",
   "execution_count": 216,
   "metadata": {
    "collapsed": true
   },
   "outputs": [],
   "source": [
    "def EM():\n",
    "    s = gen_cluster()\n",
    "    s.curr_labels = np.random.randint(0, len(s.labels),\n",
    "                                      size=len(s.points))\n",
    "    min_x, max_x = (min(s.points), max(s.points))\n",
    "    s.curr_dists = [norm(loc=np.random.uniform(min_x, max_x), \n",
    "                    scale=np.random.uniform(1, 2)) \n",
    "                    for i in s.real_dists]\n",
    "    \n",
    "    while True:\n",
    "        s = E_step(s)\n",
    "        yield s\n",
    "        s = M_step(s)"
   ]
  },
  {
   "cell_type": "code",
   "execution_count": 217,
   "metadata": {
    "collapsed": true
   },
   "outputs": [],
   "source": [
    "G = EM()"
   ]
  },
  {
   "cell_type": "code",
   "execution_count": 218,
   "metadata": {},
   "outputs": [],
   "source": [
    "st = next(G)\n",
    "plot_state(st)"
   ]
  },
  {
   "cell_type": "code",
   "execution_count": 219,
   "metadata": {},
   "outputs": [
    {
     "data": {
      "application/vnd.jupyter.widget-view+json": {
       "model_id": "2721bd208b964c62bc4ede57e99cc571"
      }
     },
     "metadata": {},
     "output_type": "display_data"
    },
    {
     "name": "stdout",
     "output_type": "stream",
     "text": [
      "\n"
     ]
    }
   ],
   "source": [
    "for i in tqdm_notebook(range(5)):\n",
    "    st = next(G)\n",
    "    plot_state(st)"
   ]
  },
  {
   "cell_type": "code",
   "execution_count": null,
   "metadata": {
    "collapsed": true
   },
   "outputs": [],
   "source": []
  },
  {
   "cell_type": "code",
   "execution_count": null,
   "metadata": {
    "collapsed": true
   },
   "outputs": [],
   "source": []
  }
 ],
 "metadata": {
  "kernelspec": {
   "display_name": "Python 3",
   "language": "python",
   "name": "python3"
  },
  "language_info": {
   "codemirror_mode": {
    "name": "ipython",
    "version": 3
   },
   "file_extension": ".py",
   "mimetype": "text/x-python",
   "name": "python",
   "nbconvert_exporter": "python",
   "pygments_lexer": "ipython3",
   "version": "3.6.1"
  }
 },
 "nbformat": 4,
 "nbformat_minor": 2
}
