{
 "cells": [
  {
   "cell_type": "code",
   "execution_count": 1,
   "metadata": {
    "collapsed": true
   },
   "outputs": [],
   "source": [
    "import numpy as np\n",
    "from scipy.stats import norm\n",
    "\n",
    "from easydict import EasyDict as edict\n",
    "\n",
    "from copy import deepcopy\n",
    "\n",
    "import matplotlib.pyplot as plt\n",
    "from matplotlib import cm\n",
    "%matplotlib tk\n",
    "plt.style.use('ggplot')"
   ]
  },
  {
   "cell_type": "code",
   "execution_count": 2,
   "metadata": {
    "collapsed": true
   },
   "outputs": [],
   "source": [
    "cmap = cm.Set1"
   ]
  },
  {
   "cell_type": "code",
   "execution_count": 3,
   "metadata": {
    "collapsed": true
   },
   "outputs": [],
   "source": [
    "def new_state():\n",
    "    state = edict({\n",
    "        'points': [],\n",
    "        'labels': [],\n",
    "        'real_dists': [],\n",
    "        'real_labels'\n",
    "        'curr_dists': [],\n",
    "        'curr_labels': []\n",
    "    })\n",
    "    return state"
   ]
  },
  {
   "cell_type": "code",
   "execution_count": 31,
   "metadata": {},
   "outputs": [],
   "source": [
    "def plot_state(s):\n",
    "    support = np.linspace(min(s.points), max(s.points), len(s.points))\n",
    "    n = len(s.points)\n",
    "    plt.scatter(x=s.points, y=[1]*n, c=cmap(s.curr_labels))\n",
    "    \n",
    "    def plot_dists(dists, labels, h):\n",
    "        for dist,lab in zip(dists, labels):\n",
    "            plt.plot(support, 1.001 + dist.pdf(support), \n",
    "                     color=cmap(lab))\n",
    "            plt.fill_between(support, 1.001 + dist.pdf(support), [1.001]*n,\n",
    "                        alpha=0.2, color=cmap(lab), hatch=h)\n",
    "    plot_dists(s.real_dists, s.labels, None)\n",
    "    if s.curr_dists:\n",
    "        plot_dists(s.curr_dists, s.labels, h='X')    \n",
    "    plt.show()"
   ]
  },
  {
   "cell_type": "code",
   "execution_count": 32,
   "metadata": {},
   "outputs": [],
   "source": [
    "def gen_cluster():\n",
    "    n_clusters = 2\n",
    "    n_points = 100\n",
    "    params = [(5,5), (35,9)]\n",
    "    dists = [norm(loc=p[0], scale=p[1]) for p in params]\n",
    "    \n",
    "    r_labs = [0]*100 + [1]*100\n",
    "    points = [np.random.normal(params[i][0], params[i][1]) for i in r_labs]\n",
    "    \n",
    "    state = new_state()\n",
    "    state.points = points\n",
    "    state.real_labels = r_labs\n",
    "    state.real_dists = dists\n",
    "    state.labels = range(n_clusters)\n",
    "    \n",
    "    return state"
   ]
  },
  {
   "cell_type": "code",
   "execution_count": 33,
   "metadata": {},
   "outputs": [],
   "source": [
    "def E_step(state):\n",
    "    def assign_lab(p, dists):\n",
    "        point_likelihood = [dist.pdf(p) for dist in dists]\n",
    "        return np.argmax(point_likelihood)\n",
    "    \n",
    "    s = deepcopy(state)\n",
    "    s.curr_labels = [assign_lab(pt, s.curr_dists) for pt in s.points]\n",
    "    return s\n",
    "\n",
    "def M_step(state):\n",
    "    def new_pdf(points):\n",
    "        "
   ]
  },
  {
   "cell_type": "code",
   "execution_count": 34,
   "metadata": {},
   "outputs": [],
   "source": [
    "def EM():\n",
    "    s = gen_cluster()\n",
    "    s.curr_labels = np.random.randint(0, len(s.labels), size=len(s.points))\n",
    "    min_x, max_x = (min(s.points), max(s.points))\n",
    "    s.curr_dists = [norm(loc=np.random.uniform(min_x, max_x), \n",
    "                    scale=np.random.uniform(0, 5)) \n",
    "                    for i in s.real_dists]\n",
    "    plot_state(s)\n",
    "    plt.show()\n",
    "    \n",
    "    u = E_step(s)"
   ]
  },
  {
   "cell_type": "code",
   "execution_count": 35,
   "metadata": {},
   "outputs": [],
   "source": [
    "EM()"
   ]
  },
  {
   "cell_type": "code",
   "execution_count": null,
   "metadata": {
    "collapsed": true
   },
   "outputs": [],
   "source": []
  }
 ],
 "metadata": {
  "kernelspec": {
   "display_name": "Python 3",
   "language": "python",
   "name": "python3"
  },
  "language_info": {
   "codemirror_mode": {
    "name": "ipython",
    "version": 3
   },
   "file_extension": ".py",
   "mimetype": "text/x-python",
   "name": "python",
   "nbconvert_exporter": "python",
   "pygments_lexer": "ipython3",
   "version": "3.5.2"
  }
 },
 "nbformat": 4,
 "nbformat_minor": 2
}
