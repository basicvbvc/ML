{
 "cells": [
  {
   "cell_type": "code",
   "execution_count": 1,
   "metadata": {
    "collapsed": true
   },
   "outputs": [],
   "source": [
    "import spacy\n",
    "import torch\n",
    "from torchtext import data, datasets\n",
    "from torchtext.datasets import LanguageModelingDataset\n",
    "\n",
    "import string\n",
    "\n",
    "import matplotlib.pyplot as plt\n",
    "%matplotlib tk\n",
    "plt.style.use('ggplot')\n",
    "\n",
    "import numpy as np\n",
    "from tqdm import tqdm_notebook\n",
    "\n",
    "import torch\n",
    "import torch.nn as nn\n",
    "import torch.nn.functional as F\n",
    "from torch.autograd import Variable\n",
    "from torch import Tensor\n",
    "\n",
    "from pycrayon import CrayonClient\n",
    "\n",
    "import os\n",
    "import time"
   ]
  },
  {
   "cell_type": "code",
   "execution_count": 4,
   "metadata": {},
   "outputs": [
    {
     "name": "stdout",
     "output_type": "stream",
     "text": [
      "20956\n"
     ]
    }
   ],
   "source": [
    "spacy_en = spacy.load('en') # the default English package by Spacy\n",
    "allowed_chars = string.ascii_letters + \",.\"\n",
    "\n",
    "def tokenizer2(text): # create a tokenizer function\n",
    "    text = ''.join([c if c in allowed_chars else ' ' for c in text])\n",
    "    text = ' '.join(text.split())\n",
    "    text = text+' ' if text else text\n",
    "    doc = spacy_en(text)\n",
    "    return [tok.text for tok in spacy_en.tokenizer(text)]\n",
    "\n",
    "TEXT = data.Field(tokenize=tokenizer2, use_vocab=True, lower=True)\n",
    "D = LanguageModelingDataset('data/HPSerie', TEXT, newline_eos=False)\n",
    "TEXT.build_vocab(D)\n",
    "print(len(TEXT.vocab))"
   ]
  },
  {
   "cell_type": "code",
   "execution_count": 5,
   "metadata": {},
   "outputs": [
    {
     "name": "stdout",
     "output_type": "stream",
     "text": [
      "86100\n"
     ]
    }
   ],
   "source": [
    "def stats():\n",
    "    vocab = TEXT.vocab\n",
    "    c = vocab.freqs\n",
    "    voc_len = len(vocab)\n",
    "    total_occ = c.values()\n",
    "    \n",
    "    freqs = np.array([c[k] for k in c])\n",
    "    freqs = freqs / freqs.sum()\n",
    "    freqs[::-1].sort()\n",
    "    plt.bar(range(100), freqs[:100], align='edge', log=True)\n",
    "    plt.show()\n",
    "    \n",
    "    t = vocab.freqs[',']\n",
    "    print(t)\n",
    "stats()"
   ]
  },
  {
   "cell_type": "code",
   "execution_count": 6,
   "metadata": {
    "collapsed": true
   },
   "outputs": [],
   "source": [
    "it = data.BPTTIterator(D, batch_size=32, bptt_len=100, device=0, \n",
    "                       repeat=False, shuffle=False)\n",
    "rev = {v: k for k,v in TEXT.vocab.stoi.items()}\n",
    "\n"
   ]
  },
  {
   "cell_type": "code",
   "execution_count": 7,
   "metadata": {
    "collapsed": true
   },
   "outputs": [],
   "source": [
    "class Logger():\n",
    "    def __init__(self):\n",
    "        self.cc = CrayonClient(hostname='localhost')\n",
    "        self.cc.remove_experiment('FOO')\n",
    "        self.exp = self.cc.create_experiment('FOO')\n",
    "        \n",
    "    def log_scalar(self, key, val):\n",
    "        self.exp.add_scalar_value(key, val)\n",
    "        \n",
    "    def log_hist(self, key, val):\n",
    "        self.exp.add_histogram_value(key, val, tobuild=True)"
   ]
  },
  {
   "cell_type": "code",
   "execution_count": 31,
   "metadata": {
    "collapsed": true
   },
   "outputs": [],
   "source": [
    "class RNNModel(nn.Module):\n",
    "    def __init__(self, n_word, n_inp, n_hid, n_layers, dropout=0.0,\n",
    "                lr=0.001):\n",
    "        super(RNNModel, self).__init__()\n",
    "        self.n_hid = n_hid\n",
    "        self.n_layers = n_layers\n",
    "        self.encoder = nn.Embedding(n_word, n_inp)\n",
    "        self.gru = nn.GRU(n_inp, n_hid, n_layers, dropout=dropout)\n",
    "        self.decoder = nn.Linear(n_hid, n_word)\n",
    "        self.model_name = '{}L_{}E_{}H_{}D_{}LR'.format(n_layers,\n",
    "                                n_inp, n_hid, dropout, lr)\n",
    "        self.save_path = os.path.join('Models', self.model_name) \n",
    "        \n",
    "    def forward(self, input):\n",
    "        seq_len = input.size(0)\n",
    "        batch_size = input.size(1)\n",
    "        hidden = self.init_hidden(batch_size)\n",
    "        \n",
    "        encoded = self.encoder(input)\n",
    "        output, _ = self.gru(encoded, hidden)\n",
    "        output = output.view(-1, self.n_hid)\n",
    "        decoded = self.decoder(output)\n",
    "        return decoded\n",
    "        \n",
    "        \n",
    "    def init_hidden(self, batch_size):\n",
    "        return Variable(torch.zeros(self.n_layers, batch_size, \n",
    "                                    self.n_hid)).cuda()\n",
    "    \n",
    "    def gen(self, input, hidden):\n",
    "        encoded = self.encoder(input)\n",
    "        output, hidden = self.gru(encoded, hidden)\n",
    "        output = output.view(-1, self.n_hid)\n",
    "        decoded = self.decoder(output)\n",
    "        return decoded, hidden\n",
    "    \n",
    "    def log_weights(self, logger):\n",
    "        W = {}\n",
    "        for i in range(self.n_layers):\n",
    "            ih = 'weight_ih_l{}'.format(i)\n",
    "            hh = 'weight_hh_l{}'.format(i)\n",
    "            W['l/'+ih] = getattr(self.gru, ih).cpu().data.numpy().flatten().tolist()\n",
    "            W['l/'+hh] = getattr(self.gru, hh).cpu().data.numpy().flatten().tolist()\n",
    "        W['emb'] = self.encoder.weight.cpu().data.numpy().flatten().tolist()\n",
    "        for k,v in W.items():\n",
    "            logger.log_hist(k, v)\n",
    "        return W\n",
    "            \n",
    "    \n",
    "    def step(self, batch):\n",
    "        X = batch.text\n",
    "        Y = batch.target\n",
    "        self.zero_grad()\n",
    "        output = model(X)\n",
    "        loss = criterion(output, Y.view(-1))\n",
    "        loss.backward()\n",
    "        model_optimizer.step()\n",
    "        return loss.data[0]\n",
    "    \n",
    "    def fit(self, data_train):\n",
    "        torch.manual_seed(7)\n",
    "        torch.cuda.manual_seed(7)\n",
    "        logger = Logger()\n",
    "        self.log_weights(logger)\n",
    "        \n",
    "        loss_avg = 0\n",
    "        wait = 0\n",
    "        patience = 10\n",
    "        \n",
    "        e_losses = []\n",
    "        \n",
    "        batch_per_epoch = len(data_train)\n",
    "        e_bar = tqdm_notebook(range(1000), desc='EPOCHS', leave=False)\n",
    "        for e in e_bar:\n",
    "            self.train()\n",
    "            b_bar = tqdm_notebook(iter(data_train), leave=False, \n",
    "                                  total=len(data_train))\n",
    "            for batch in b_bar:\n",
    "                loss = self.step(batch)\n",
    "                loss_avg += loss\n",
    "                b_bar.set_postfix(loss=loss)\n",
    "                logger.log_scalar('batch_loss', loss)\n",
    "                \n",
    "            e_loss = loss_avg / batch_per_epoch\n",
    "            logger.log_scalar('epoch_loss', e_loss)\n",
    "            e_losses.append(e_loss)\n",
    "            self.log_weights(logger)\n",
    "            \n",
    "            #s = generation('the', 50)\n",
    "            #d = decode(s)\n",
    "            #print(d)\n",
    "            \n",
    "            loss_avg = 0\n",
    "            \n",
    "            if e_loss > min(e_losses):\n",
    "                wait += 1\n",
    "                if wait > patience:\n",
    "                    self.load()\n",
    "                    e_bar.close()\n",
    "                    return e_losses\n",
    "            else:\n",
    "                wait = 0\n",
    "                self.save()\n",
    "                \n",
    "            e_bar.set_postfix(e_loss=e_loss, best=min(e_losses), \n",
    "                                 stop='{}/{}'.format(wait, patience))\n",
    "                               \n",
    "    def save(self):\n",
    "        torch.save(self.state_dict(), self.save_path)\n",
    "\n",
    "    def load(self):\n",
    "        self.load_state_dict(torch.load(self.save_path))\n",
    "            "
   ]
  },
  {
   "cell_type": "code",
   "execution_count": 32,
   "metadata": {
    "collapsed": true
   },
   "outputs": [],
   "source": [
    "def decode(s):\n",
    "    decoder = {v: k for k,v in vocab.stoi.items()}\n",
    "    return ' '.join([decoder[w] for w in s])\n",
    "    \n",
    "def generation(init_token, steps):\n",
    "    hidden = model.init_hidden(1)\n",
    "    init_enc = Variable(Tensor([vocab.stoi[init_token]])\n",
    "                        .unsqueeze(0).long()).cuda()\n",
    "    sentence = [init_enc]\n",
    "    for x in range(steps):\n",
    "        output, hidden = model.gen(sentence[-1], hidden)\n",
    "        #output = F.softmax(output)\n",
    "        ind = torch.multinomial(output.view(-1), 1)[0]\n",
    "        val, ind = output.max(1)\n",
    "        sentence.append(ind.unsqueeze(1))\n",
    "    return [x.cpu().data.numpy().flatten()[0] for x in sentence]\n",
    "        "
   ]
  },
  {
   "cell_type": "code",
   "execution_count": 33,
   "metadata": {},
   "outputs": [],
   "source": [
    "vocab = TEXT.vocab\n",
    "model = RNNModel(n_word=len(vocab), n_inp=150, n_hid=256, n_layers=3)\n",
    "model.cuda()\n",
    "\n",
    "\n",
    "f = vocab.freqs\n",
    "weights = [1/f[rev[i]] if f[rev[i]] != 0 else 0  for i in range(1, len(TEXT.vocab))]\n",
    "weights.insert(0, 0)\n",
    "weights = Tensor(weights)"
   ]
  },
  {
   "cell_type": "code",
   "execution_count": 34,
   "metadata": {},
   "outputs": [
    {
     "data": {
      "application/vnd.jupyter.widget-view+json": {
       "model_id": "42fb8d76a41a41e4ad414da898f77e61"
      }
     },
     "metadata": {},
     "output_type": "display_data"
    },
    {
     "data": {
      "application/vnd.jupyter.widget-view+json": {
       "model_id": "e8af8583819745268f74fcaa0a8ef957"
      }
     },
     "metadata": {},
     "output_type": "display_data"
    },
    {
     "data": {
      "application/vnd.jupyter.widget-view+json": {
       "model_id": "8ad3ab40a35b48b7b3278d58a7cab871"
      }
     },
     "metadata": {},
     "output_type": "display_data"
    },
    {
     "data": {
      "application/vnd.jupyter.widget-view+json": {
       "model_id": "224d3cdea3e34ac1a1b11648f44a9dc3"
      }
     },
     "metadata": {},
     "output_type": "display_data"
    },
    {
     "data": {
      "application/vnd.jupyter.widget-view+json": {
       "model_id": "8dbb27393c334a50984efe933db923a3"
      }
     },
     "metadata": {},
     "output_type": "display_data"
    },
    {
     "data": {
      "application/vnd.jupyter.widget-view+json": {
       "model_id": "c72a4403c77e4f6197486975cf7647b0"
      }
     },
     "metadata": {},
     "output_type": "display_data"
    },
    {
     "data": {
      "application/vnd.jupyter.widget-view+json": {
       "model_id": "fbbbd364a9ab421b8d3fa60f0f598b52"
      }
     },
     "metadata": {},
     "output_type": "display_data"
    },
    {
     "data": {
      "application/vnd.jupyter.widget-view+json": {
       "model_id": "206af29a7b864bfe9809f42fa675c3a0"
      }
     },
     "metadata": {},
     "output_type": "display_data"
    },
    {
     "data": {
      "application/vnd.jupyter.widget-view+json": {
       "model_id": "a211bc8a8d9b46bb9eb966edc8fd6dac"
      }
     },
     "metadata": {},
     "output_type": "display_data"
    },
    {
     "data": {
      "application/vnd.jupyter.widget-view+json": {
       "model_id": "6f48641097524d70ac175e218b605005"
      }
     },
     "metadata": {},
     "output_type": "display_data"
    },
    {
     "data": {
      "application/vnd.jupyter.widget-view+json": {
       "model_id": "724bc091acde4b0cb9a8a33806a92769"
      }
     },
     "metadata": {},
     "output_type": "display_data"
    },
    {
     "data": {
      "application/vnd.jupyter.widget-view+json": {
       "model_id": "4e868cd8de0e4c7d94cffbba76f14432"
      }
     },
     "metadata": {},
     "output_type": "display_data"
    },
    {
     "data": {
      "application/vnd.jupyter.widget-view+json": {
       "model_id": "773170eac4a3450d9a1d71f2a8da9378"
      }
     },
     "metadata": {},
     "output_type": "display_data"
    },
    {
     "data": {
      "application/vnd.jupyter.widget-view+json": {
       "model_id": "33c61edf32344802b5e1a4ec01bfe1bb"
      }
     },
     "metadata": {},
     "output_type": "display_data"
    },
    {
     "data": {
      "application/vnd.jupyter.widget-view+json": {
       "model_id": "f959062e456d4e6797fe8299761ed0df"
      }
     },
     "metadata": {},
     "output_type": "display_data"
    },
    {
     "data": {
      "application/vnd.jupyter.widget-view+json": {
       "model_id": "cfeccf13748f4da3b9e2a5cda60b94b8"
      }
     },
     "metadata": {},
     "output_type": "display_data"
    },
    {
     "data": {
      "application/vnd.jupyter.widget-view+json": {
       "model_id": "d9a8b04a8105422e9a94e5fbdb69db3c"
      }
     },
     "metadata": {},
     "output_type": "display_data"
    },
    {
     "data": {
      "application/vnd.jupyter.widget-view+json": {
       "model_id": "4c78669d59124c8b8ee3e5ecb85d44d2"
      }
     },
     "metadata": {},
     "output_type": "display_data"
    },
    {
     "data": {
      "application/vnd.jupyter.widget-view+json": {
       "model_id": "61a2c6f4da464811a961508e753c0394"
      }
     },
     "metadata": {},
     "output_type": "display_data"
    },
    {
     "data": {
      "application/vnd.jupyter.widget-view+json": {
       "model_id": "02c117e970fc43328f8794312495d2a3"
      }
     },
     "metadata": {},
     "output_type": "display_data"
    },
    {
     "data": {
      "application/vnd.jupyter.widget-view+json": {
       "model_id": "0515e0d701884eedaec641c5efb9f6b1"
      }
     },
     "metadata": {},
     "output_type": "display_data"
    },
    {
     "data": {
      "application/vnd.jupyter.widget-view+json": {
       "model_id": "1e1229e079484eb78a43ad5faa9465bf"
      }
     },
     "metadata": {},
     "output_type": "display_data"
    },
    {
     "data": {
      "application/vnd.jupyter.widget-view+json": {
       "model_id": "a18202d332c3471884ccc4ba140f8bc7"
      }
     },
     "metadata": {},
     "output_type": "display_data"
    },
    {
     "data": {
      "application/vnd.jupyter.widget-view+json": {
       "model_id": "60fc2e49620e4293a1f52cfa07a8ef68"
      }
     },
     "metadata": {},
     "output_type": "display_data"
    },
    {
     "data": {
      "application/vnd.jupyter.widget-view+json": {
       "model_id": "126fae6f9fee4a838eda9fa44e2e7eea"
      }
     },
     "metadata": {},
     "output_type": "display_data"
    },
    {
     "data": {
      "application/vnd.jupyter.widget-view+json": {
       "model_id": "4bb2c0cf12274a06ab700a7869f0a514"
      }
     },
     "metadata": {},
     "output_type": "display_data"
    },
    {
     "data": {
      "application/vnd.jupyter.widget-view+json": {
       "model_id": "30e567d412dd42e7b9b5b2a34b099d93"
      }
     },
     "metadata": {},
     "output_type": "display_data"
    },
    {
     "data": {
      "application/vnd.jupyter.widget-view+json": {
       "model_id": "6621d0723618432eb42fc1dbaab90649"
      }
     },
     "metadata": {},
     "output_type": "display_data"
    },
    {
     "data": {
      "application/vnd.jupyter.widget-view+json": {
       "model_id": "8d012cf1163b427b8516c16e355b85a1"
      }
     },
     "metadata": {},
     "output_type": "display_data"
    },
    {
     "data": {
      "application/vnd.jupyter.widget-view+json": {
       "model_id": "4befbdd236fc498eb0eddb1502525ebe"
      }
     },
     "metadata": {},
     "output_type": "display_data"
    },
    {
     "data": {
      "application/vnd.jupyter.widget-view+json": {
       "model_id": "57d12c45f20c4002b501b3f5966df98d"
      }
     },
     "metadata": {},
     "output_type": "display_data"
    },
    {
     "data": {
      "application/vnd.jupyter.widget-view+json": {
       "model_id": "c344367c7cb94f979ccab68573d41aee"
      }
     },
     "metadata": {},
     "output_type": "display_data"
    },
    {
     "data": {
      "application/vnd.jupyter.widget-view+json": {
       "model_id": "d7e6b85d8ba0419b9caa391ae8bf4052"
      }
     },
     "metadata": {},
     "output_type": "display_data"
    },
    {
     "data": {
      "application/vnd.jupyter.widget-view+json": {
       "model_id": "89dc656e2d2e4d2289aab1cba9964714"
      }
     },
     "metadata": {},
     "output_type": "display_data"
    },
    {
     "data": {
      "application/vnd.jupyter.widget-view+json": {
       "model_id": "4c6c945af3fc45adb5a3f0c2824f708d"
      }
     },
     "metadata": {},
     "output_type": "display_data"
    },
    {
     "data": {
      "application/vnd.jupyter.widget-view+json": {
       "model_id": "e1bb8f7e771f4572992af37ec7b51016"
      }
     },
     "metadata": {},
     "output_type": "display_data"
    },
    {
     "data": {
      "application/vnd.jupyter.widget-view+json": {
       "model_id": "c1f7ce80de704487bed2d98788474303"
      }
     },
     "metadata": {},
     "output_type": "display_data"
    },
    {
     "data": {
      "application/vnd.jupyter.widget-view+json": {
       "model_id": "f9b67ec664de447784e95b1af9a23af7"
      }
     },
     "metadata": {},
     "output_type": "display_data"
    },
    {
     "data": {
      "application/vnd.jupyter.widget-view+json": {
       "model_id": "7ee655b50ea64b84bfad1b3ea04d7339"
      }
     },
     "metadata": {},
     "output_type": "display_data"
    },
    {
     "data": {
      "application/vnd.jupyter.widget-view+json": {
       "model_id": "c0bb0dc849834aaeb596f68fafbdee0e"
      }
     },
     "metadata": {},
     "output_type": "display_data"
    },
    {
     "data": {
      "application/vnd.jupyter.widget-view+json": {
       "model_id": "bf4172324fe94995b1f30d17d89d0cb9"
      }
     },
     "metadata": {},
     "output_type": "display_data"
    },
    {
     "data": {
      "application/vnd.jupyter.widget-view+json": {
       "model_id": "084e257c7ee24e95ab0126e8ff81e06e"
      }
     },
     "metadata": {},
     "output_type": "display_data"
    },
    {
     "data": {
      "application/vnd.jupyter.widget-view+json": {
       "model_id": "75f0c5fc7f194b3f85623ca1b831be25"
      }
     },
     "metadata": {},
     "output_type": "display_data"
    },
    {
     "data": {
      "application/vnd.jupyter.widget-view+json": {
       "model_id": "79ad7f9909ac4bb6bd1b0dbf1a1408f5"
      }
     },
     "metadata": {},
     "output_type": "display_data"
    },
    {
     "data": {
      "application/vnd.jupyter.widget-view+json": {
       "model_id": "0783f5d25ea5438299e7111f6a931b7e"
      }
     },
     "metadata": {},
     "output_type": "display_data"
    },
    {
     "data": {
      "application/vnd.jupyter.widget-view+json": {
       "model_id": "09a05a61dddc4cb8aa16899a0af35196"
      }
     },
     "metadata": {},
     "output_type": "display_data"
    },
    {
     "data": {
      "application/vnd.jupyter.widget-view+json": {
       "model_id": "3752ddabdd954acc8cff195a1091ed27"
      }
     },
     "metadata": {},
     "output_type": "display_data"
    },
    {
     "data": {
      "application/vnd.jupyter.widget-view+json": {
       "model_id": "26a2cea4470c434cb2f99abf1f8241d0"
      }
     },
     "metadata": {},
     "output_type": "display_data"
    },
    {
     "data": {
      "application/vnd.jupyter.widget-view+json": {
       "model_id": "0336f260e07b4978a6292da4eb954139"
      }
     },
     "metadata": {},
     "output_type": "display_data"
    },
    {
     "data": {
      "application/vnd.jupyter.widget-view+json": {
       "model_id": "b840bb42b5804b60aa80198d5053c523"
      }
     },
     "metadata": {},
     "output_type": "display_data"
    },
    {
     "data": {
      "application/vnd.jupyter.widget-view+json": {
       "model_id": "6769592d3ca342d89dde2c8347ca5630"
      }
     },
     "metadata": {},
     "output_type": "display_data"
    },
    {
     "data": {
      "application/vnd.jupyter.widget-view+json": {
       "model_id": "fa00a4a7450d4e429692d363f5d90ecf"
      }
     },
     "metadata": {},
     "output_type": "display_data"
    },
    {
     "data": {
      "application/vnd.jupyter.widget-view+json": {
       "model_id": "5a9ed1452a0b4389862602816a57c5cc"
      }
     },
     "metadata": {},
     "output_type": "display_data"
    },
    {
     "data": {
      "application/vnd.jupyter.widget-view+json": {
       "model_id": "1fb0772eadd64d1f8ba2ed2c4b6b565f"
      }
     },
     "metadata": {},
     "output_type": "display_data"
    },
    {
     "data": {
      "application/vnd.jupyter.widget-view+json": {
       "model_id": "7ec2de35600447398673b084518ed8a6"
      }
     },
     "metadata": {},
     "output_type": "display_data"
    },
    {
     "data": {
      "application/vnd.jupyter.widget-view+json": {
       "model_id": "78fc98b7ee21493ba6474e7d8270234e"
      }
     },
     "metadata": {},
     "output_type": "display_data"
    },
    {
     "data": {
      "application/vnd.jupyter.widget-view+json": {
       "model_id": "70b1de5435144f9594e8543217da1721"
      }
     },
     "metadata": {},
     "output_type": "display_data"
    },
    {
     "data": {
      "application/vnd.jupyter.widget-view+json": {
       "model_id": "18f6d1b996c44c5a97b80c2d4dd53559"
      }
     },
     "metadata": {},
     "output_type": "display_data"
    },
    {
     "data": {
      "application/vnd.jupyter.widget-view+json": {
       "model_id": "dd6f0961fa174437bde91d4079889347"
      }
     },
     "metadata": {},
     "output_type": "display_data"
    },
    {
     "data": {
      "application/vnd.jupyter.widget-view+json": {
       "model_id": "db5604adb15248a0b6adceb741ee7b9b"
      }
     },
     "metadata": {},
     "output_type": "display_data"
    },
    {
     "data": {
      "application/vnd.jupyter.widget-view+json": {
       "model_id": "4063674d763a4b0fa32175059e4e4fb2"
      }
     },
     "metadata": {},
     "output_type": "display_data"
    },
    {
     "data": {
      "application/vnd.jupyter.widget-view+json": {
       "model_id": "7371b7ec2718462881485db512b0d97b"
      }
     },
     "metadata": {},
     "output_type": "display_data"
    },
    {
     "data": {
      "application/vnd.jupyter.widget-view+json": {
       "model_id": "507bf33b346e491e881758da477cc2e1"
      }
     },
     "metadata": {},
     "output_type": "display_data"
    },
    {
     "data": {
      "application/vnd.jupyter.widget-view+json": {
       "model_id": "acabc7e0221849c0bc98715a822f1a6c"
      }
     },
     "metadata": {},
     "output_type": "display_data"
    },
    {
     "data": {
      "application/vnd.jupyter.widget-view+json": {
       "model_id": "dee162e268ef45b7bbf54b12c9c7a893"
      }
     },
     "metadata": {},
     "output_type": "display_data"
    },
    {
     "data": {
      "application/vnd.jupyter.widget-view+json": {
       "model_id": "0cb1c2cbcaed4270b6c21892e69e1a9e"
      }
     },
     "metadata": {},
     "output_type": "display_data"
    },
    {
     "data": {
      "application/vnd.jupyter.widget-view+json": {
       "model_id": "d1870f8013a547869804bb61f1fd68ae"
      }
     },
     "metadata": {},
     "output_type": "display_data"
    },
    {
     "data": {
      "application/vnd.jupyter.widget-view+json": {
       "model_id": "13f91a2176f64a0cbda549399f808135"
      }
     },
     "metadata": {},
     "output_type": "display_data"
    },
    {
     "data": {
      "application/vnd.jupyter.widget-view+json": {
       "model_id": "d7583f328dd64cafaccf57e50aac0dc3"
      }
     },
     "metadata": {},
     "output_type": "display_data"
    },
    {
     "data": {
      "application/vnd.jupyter.widget-view+json": {
       "model_id": "a1cd050bea174c10b806d562f991b174"
      }
     },
     "metadata": {},
     "output_type": "display_data"
    },
    {
     "data": {
      "application/vnd.jupyter.widget-view+json": {
       "model_id": "03b48121e5084dc7be61b5c70521ae4c"
      }
     },
     "metadata": {},
     "output_type": "display_data"
    },
    {
     "data": {
      "application/vnd.jupyter.widget-view+json": {
       "model_id": "323fed1ff0384208bc314fcbcb97be86"
      }
     },
     "metadata": {},
     "output_type": "display_data"
    },
    {
     "data": {
      "application/vnd.jupyter.widget-view+json": {
       "model_id": "50a088f6e4e544d084392f3c17365edc"
      }
     },
     "metadata": {},
     "output_type": "display_data"
    },
    {
     "data": {
      "application/vnd.jupyter.widget-view+json": {
       "model_id": "87d98e7c7bf54ddb9c3f4e7a2d790522"
      }
     },
     "metadata": {},
     "output_type": "display_data"
    },
    {
     "data": {
      "application/vnd.jupyter.widget-view+json": {
       "model_id": "829627fe1fae4027a410cc26f7ff4247"
      }
     },
     "metadata": {},
     "output_type": "display_data"
    },
    {
     "data": {
      "application/vnd.jupyter.widget-view+json": {
       "model_id": "637b8dc3831946cd8384be034aa1bd43"
      }
     },
     "metadata": {},
     "output_type": "display_data"
    },
    {
     "data": {
      "application/vnd.jupyter.widget-view+json": {
       "model_id": "7ae1e67df15c45528bb896320e8a1fdd"
      }
     },
     "metadata": {},
     "output_type": "display_data"
    },
    {
     "data": {
      "application/vnd.jupyter.widget-view+json": {
       "model_id": "e6cb6173046f451ab44e80dee8aa4350"
      }
     },
     "metadata": {},
     "output_type": "display_data"
    },
    {
     "data": {
      "application/vnd.jupyter.widget-view+json": {
       "model_id": "b20de7a91e194ddd84e5d7d4a90aebbb"
      }
     },
     "metadata": {},
     "output_type": "display_data"
    },
    {
     "data": {
      "application/vnd.jupyter.widget-view+json": {
       "model_id": "25e803a0fe634ab1948d55aa0a2e85f7"
      }
     },
     "metadata": {},
     "output_type": "display_data"
    },
    {
     "data": {
      "application/vnd.jupyter.widget-view+json": {
       "model_id": "20ff759eb47f4c4383612d62e81a3f55"
      }
     },
     "metadata": {},
     "output_type": "display_data"
    },
    {
     "data": {
      "application/vnd.jupyter.widget-view+json": {
       "model_id": "8b567e4154c7482fb3dbbd18fd126f72"
      }
     },
     "metadata": {},
     "output_type": "display_data"
    },
    {
     "data": {
      "application/vnd.jupyter.widget-view+json": {
       "model_id": "b40f6ba7630c4341815444270a15e610"
      }
     },
     "metadata": {},
     "output_type": "display_data"
    },
    {
     "data": {
      "application/vnd.jupyter.widget-view+json": {
       "model_id": "2f8021f0f06b48a2b7d211c26533dec8"
      }
     },
     "metadata": {},
     "output_type": "display_data"
    },
    {
     "data": {
      "application/vnd.jupyter.widget-view+json": {
       "model_id": "6cea6ca476ed4d56b7d147005cea74a7"
      }
     },
     "metadata": {},
     "output_type": "display_data"
    },
    {
     "data": {
      "application/vnd.jupyter.widget-view+json": {
       "model_id": "6e3451acf039472799c5ccd89cc90c05"
      }
     },
     "metadata": {},
     "output_type": "display_data"
    },
    {
     "data": {
      "application/vnd.jupyter.widget-view+json": {
       "model_id": "930c6798012945c48edd5e60349fd120"
      }
     },
     "metadata": {},
     "output_type": "display_data"
    },
    {
     "data": {
      "application/vnd.jupyter.widget-view+json": {
       "model_id": "8604b23178944df0ab66c32cb8547c2b"
      }
     },
     "metadata": {},
     "output_type": "display_data"
    },
    {
     "data": {
      "application/vnd.jupyter.widget-view+json": {
       "model_id": "fbcdd9ffb709493e8bf2707787ca4c00"
      }
     },
     "metadata": {},
     "output_type": "display_data"
    },
    {
     "data": {
      "application/vnd.jupyter.widget-view+json": {
       "model_id": "30e80375d3b242cdb9c159cd876544ce"
      }
     },
     "metadata": {},
     "output_type": "display_data"
    },
    {
     "data": {
      "application/vnd.jupyter.widget-view+json": {
       "model_id": "2221fc0cfa1b4970b0b96f426bc31b86"
      }
     },
     "metadata": {},
     "output_type": "display_data"
    },
    {
     "data": {
      "application/vnd.jupyter.widget-view+json": {
       "model_id": "6a3daa919b31496eb8f7be90a87e9bd5"
      }
     },
     "metadata": {},
     "output_type": "display_data"
    },
    {
     "data": {
      "application/vnd.jupyter.widget-view+json": {
       "model_id": "c482c80c602947ac8018afbb6fdddc76"
      }
     },
     "metadata": {},
     "output_type": "display_data"
    },
    {
     "data": {
      "application/vnd.jupyter.widget-view+json": {
       "model_id": "2906233c9e3246c9a08879600f8a1fa7"
      }
     },
     "metadata": {},
     "output_type": "display_data"
    },
    {
     "data": {
      "application/vnd.jupyter.widget-view+json": {
       "model_id": "29c815a4aa4f444eaa31717092b7102c"
      }
     },
     "metadata": {},
     "output_type": "display_data"
    },
    {
     "data": {
      "application/vnd.jupyter.widget-view+json": {
       "model_id": "49af3b0a25064c0a8b8dbbb03a567cdb"
      }
     },
     "metadata": {},
     "output_type": "display_data"
    },
    {
     "data": {
      "application/vnd.jupyter.widget-view+json": {
       "model_id": "433550bba0354f11ad4484a0c36addb6"
      }
     },
     "metadata": {},
     "output_type": "display_data"
    },
    {
     "data": {
      "application/vnd.jupyter.widget-view+json": {
       "model_id": "123fe046b7504117a2ab730fdd19772c"
      }
     },
     "metadata": {},
     "output_type": "display_data"
    },
    {
     "data": {
      "application/vnd.jupyter.widget-view+json": {
       "model_id": "96b95976d6b14c24adca34382318d968"
      }
     },
     "metadata": {},
     "output_type": "display_data"
    },
    {
     "data": {
      "application/vnd.jupyter.widget-view+json": {
       "model_id": "5edc13c44b944b2fa4c76a6b0d3652e7"
      }
     },
     "metadata": {},
     "output_type": "display_data"
    },
    {
     "data": {
      "application/vnd.jupyter.widget-view+json": {
       "model_id": "41738328d1e0464f82f6bf618a749752"
      }
     },
     "metadata": {},
     "output_type": "display_data"
    },
    {
     "data": {
      "application/vnd.jupyter.widget-view+json": {
       "model_id": "29e41c9fefcd414dbe88c1a0cf2200cd"
      }
     },
     "metadata": {},
     "output_type": "display_data"
    },
    {
     "data": {
      "application/vnd.jupyter.widget-view+json": {
       "model_id": "8de576d1291b48b3bb9b4eb7af1248e6"
      }
     },
     "metadata": {},
     "output_type": "display_data"
    },
    {
     "data": {
      "application/vnd.jupyter.widget-view+json": {
       "model_id": "1f0614aa32be44b3bb2f36b981e01bb1"
      }
     },
     "metadata": {},
     "output_type": "display_data"
    },
    {
     "data": {
      "application/vnd.jupyter.widget-view+json": {
       "model_id": "6bf81b540b2544769ac7a0800c330431"
      }
     },
     "metadata": {},
     "output_type": "display_data"
    },
    {
     "data": {
      "application/vnd.jupyter.widget-view+json": {
       "model_id": "251c43332835499d9419c7f97147afbc"
      }
     },
     "metadata": {},
     "output_type": "display_data"
    },
    {
     "data": {
      "application/vnd.jupyter.widget-view+json": {
       "model_id": "2f55e93441af4ba1a907a258d9229257"
      }
     },
     "metadata": {},
     "output_type": "display_data"
    },
    {
     "data": {
      "application/vnd.jupyter.widget-view+json": {
       "model_id": "7a80da7cfaa7446aa4fd32af567ecc85"
      }
     },
     "metadata": {},
     "output_type": "display_data"
    },
    {
     "data": {
      "application/vnd.jupyter.widget-view+json": {
       "model_id": "ff04defc689746a9809e02cce61b3e70"
      }
     },
     "metadata": {},
     "output_type": "display_data"
    },
    {
     "data": {
      "application/vnd.jupyter.widget-view+json": {
       "model_id": "d34417b0ca804a7c8d2b9c7097f63742"
      }
     },
     "metadata": {},
     "output_type": "display_data"
    },
    {
     "data": {
      "application/vnd.jupyter.widget-view+json": {
       "model_id": "4c13b668d4ca459482be822f61070f94"
      }
     },
     "metadata": {},
     "output_type": "display_data"
    },
    {
     "data": {
      "application/vnd.jupyter.widget-view+json": {
       "model_id": "33c3ee2cdb2a45a387269acfb4dd0ad4"
      }
     },
     "metadata": {},
     "output_type": "display_data"
    },
    {
     "data": {
      "application/vnd.jupyter.widget-view+json": {
       "model_id": "5b2860cbfb2b4d93a8e306fb20303ff6"
      }
     },
     "metadata": {},
     "output_type": "display_data"
    },
    {
     "data": {
      "application/vnd.jupyter.widget-view+json": {
       "model_id": "41a7b1c28c224272bbad13c7ea418e04"
      }
     },
     "metadata": {},
     "output_type": "display_data"
    },
    {
     "data": {
      "application/vnd.jupyter.widget-view+json": {
       "model_id": "09b6bc17fda1462f93b8c88e619e2be3"
      }
     },
     "metadata": {},
     "output_type": "display_data"
    },
    {
     "data": {
      "application/vnd.jupyter.widget-view+json": {
       "model_id": "056c905cb3e149ea84b3d128e5881940"
      }
     },
     "metadata": {},
     "output_type": "display_data"
    },
    {
     "data": {
      "application/vnd.jupyter.widget-view+json": {
       "model_id": "158d4dc2486a4abe9c27c3aaf774edb8"
      }
     },
     "metadata": {},
     "output_type": "display_data"
    },
    {
     "data": {
      "application/vnd.jupyter.widget-view+json": {
       "model_id": "399cc7b67a2e4a70ab376b80c0922d2c"
      }
     },
     "metadata": {},
     "output_type": "display_data"
    },
    {
     "data": {
      "application/vnd.jupyter.widget-view+json": {
       "model_id": "5c6fff06d1c44f129a7a13c0334febc4"
      }
     },
     "metadata": {},
     "output_type": "display_data"
    },
    {
     "data": {
      "application/vnd.jupyter.widget-view+json": {
       "model_id": "fa8899f9b8034d3cb6bc01ceb41b692e"
      }
     },
     "metadata": {},
     "output_type": "display_data"
    },
    {
     "data": {
      "application/vnd.jupyter.widget-view+json": {
       "model_id": "bed9fa65b9d44cf0a6171430684f3758"
      }
     },
     "metadata": {},
     "output_type": "display_data"
    },
    {
     "data": {
      "application/vnd.jupyter.widget-view+json": {
       "model_id": "4dd21eeb38ea48689e47be003b79048b"
      }
     },
     "metadata": {},
     "output_type": "display_data"
    },
    {
     "data": {
      "application/vnd.jupyter.widget-view+json": {
       "model_id": "7d189db12a9242069d41f9d8bc7f2c00"
      }
     },
     "metadata": {},
     "output_type": "display_data"
    },
    {
     "data": {
      "application/vnd.jupyter.widget-view+json": {
       "model_id": "6485128af02446009e21481aed33fc62"
      }
     },
     "metadata": {},
     "output_type": "display_data"
    },
    {
     "name": "stdout",
     "output_type": "stream",
     "text": [
      "\r",
      "          \r",
      "243/|/ 59%|| 243/415 [00:37<00:26,  6.44it/s, loss=0.36]"
     ]
    },
    {
     "data": {
      "application/vnd.jupyter.widget-view+json": {
       "model_id": "04591a023b8b463bb71e4e783fe6c693"
      }
     },
     "metadata": {},
     "output_type": "display_data"
    },
    {
     "data": {
      "application/vnd.jupyter.widget-view+json": {
       "model_id": "39dad0256fca49ad850b15a4e9dee950"
      }
     },
     "metadata": {},
     "output_type": "display_data"
    },
    {
     "data": {
      "application/vnd.jupyter.widget-view+json": {
       "model_id": "4140fa2c0e6b4673a2ff15c0ce2f6ee3"
      }
     },
     "metadata": {},
     "output_type": "display_data"
    },
    {
     "data": {
      "application/vnd.jupyter.widget-view+json": {
       "model_id": "1a5aea7848f143b19329337d42442e8d"
      }
     },
     "metadata": {},
     "output_type": "display_data"
    },
    {
     "data": {
      "application/vnd.jupyter.widget-view+json": {
       "model_id": "82909662bd954382a1c81686c7d1f5ee"
      }
     },
     "metadata": {},
     "output_type": "display_data"
    },
    {
     "data": {
      "application/vnd.jupyter.widget-view+json": {
       "model_id": "435d4ff48af04adf9aeba2da82fe822e"
      }
     },
     "metadata": {},
     "output_type": "display_data"
    },
    {
     "data": {
      "application/vnd.jupyter.widget-view+json": {
       "model_id": "5b830001303947b2a42b88d11b4cff4f"
      }
     },
     "metadata": {},
     "output_type": "display_data"
    },
    {
     "data": {
      "application/vnd.jupyter.widget-view+json": {
       "model_id": "586dd668be0a41d1ab8b8517e40ca271"
      }
     },
     "metadata": {},
     "output_type": "display_data"
    },
    {
     "data": {
      "application/vnd.jupyter.widget-view+json": {
       "model_id": "2654857ea8454665b71fc8dcd38d6005"
      }
     },
     "metadata": {},
     "output_type": "display_data"
    },
    {
     "data": {
      "application/vnd.jupyter.widget-view+json": {
       "model_id": "3f0c3194507344b0a424a2885bf70c69"
      }
     },
     "metadata": {},
     "output_type": "display_data"
    },
    {
     "data": {
      "application/vnd.jupyter.widget-view+json": {
       "model_id": "34ad987fc3444ff7897acd02a9f8fe9c"
      }
     },
     "metadata": {},
     "output_type": "display_data"
    },
    {
     "data": {
      "application/vnd.jupyter.widget-view+json": {
       "model_id": "b618ff9a87b648eb99bb7b0f23c73ac7"
      }
     },
     "metadata": {},
     "output_type": "display_data"
    },
    {
     "data": {
      "application/vnd.jupyter.widget-view+json": {
       "model_id": "e600f77b3dac407db673c4a7b0b72267"
      }
     },
     "metadata": {},
     "output_type": "display_data"
    },
    {
     "data": {
      "application/vnd.jupyter.widget-view+json": {
       "model_id": "9072148abcc74e8d8fa0fdea4d17c65a"
      }
     },
     "metadata": {},
     "output_type": "display_data"
    },
    {
     "data": {
      "application/vnd.jupyter.widget-view+json": {
       "model_id": "999114a7fbaf4ef78e618e963f3e8982"
      }
     },
     "metadata": {},
     "output_type": "display_data"
    },
    {
     "data": {
      "application/vnd.jupyter.widget-view+json": {
       "model_id": "c60253961e3b4710a1a2431161ea90c8"
      }
     },
     "metadata": {},
     "output_type": "display_data"
    },
    {
     "data": {
      "application/vnd.jupyter.widget-view+json": {
       "model_id": "7d9e69e1891548e18412cfe8690d17ab"
      }
     },
     "metadata": {},
     "output_type": "display_data"
    },
    {
     "data": {
      "application/vnd.jupyter.widget-view+json": {
       "model_id": "77ee8c94d794415b8d861b8fc65fa4cb"
      }
     },
     "metadata": {},
     "output_type": "display_data"
    },
    {
     "data": {
      "application/vnd.jupyter.widget-view+json": {
       "model_id": "f11f76c8441c445c8e47a9fcc1e330f6"
      }
     },
     "metadata": {},
     "output_type": "display_data"
    },
    {
     "data": {
      "application/vnd.jupyter.widget-view+json": {
       "model_id": "a09cb1fc431b4563afc7a82a841c0457"
      }
     },
     "metadata": {},
     "output_type": "display_data"
    },
    {
     "data": {
      "application/vnd.jupyter.widget-view+json": {
       "model_id": "afb115c73c7546ae9833660fa4e48a40"
      }
     },
     "metadata": {},
     "output_type": "display_data"
    },
    {
     "data": {
      "application/vnd.jupyter.widget-view+json": {
       "model_id": "2e1db7aaa629439e8a5f1263bbc15d10"
      }
     },
     "metadata": {},
     "output_type": "display_data"
    },
    {
     "data": {
      "application/vnd.jupyter.widget-view+json": {
       "model_id": "af61996efe9e4f2896b2dc6d23ca19dc"
      }
     },
     "metadata": {},
     "output_type": "display_data"
    },
    {
     "data": {
      "application/vnd.jupyter.widget-view+json": {
       "model_id": "c23590544c3d442da6b68ce050f02d31"
      }
     },
     "metadata": {},
     "output_type": "display_data"
    },
    {
     "data": {
      "application/vnd.jupyter.widget-view+json": {
       "model_id": "9af6a529163e4884a206fe7018795f66"
      }
     },
     "metadata": {},
     "output_type": "display_data"
    },
    {
     "data": {
      "application/vnd.jupyter.widget-view+json": {
       "model_id": "d53221db26c144a9882064d3b9da837d"
      }
     },
     "metadata": {},
     "output_type": "display_data"
    },
    {
     "data": {
      "application/vnd.jupyter.widget-view+json": {
       "model_id": "84880eaaf28841adaafe387e8d911493"
      }
     },
     "metadata": {},
     "output_type": "display_data"
    },
    {
     "data": {
      "text/plain": [
       "[9.862767474622611,\n",
       " 8.883813184715178,\n",
       " 8.454921278896101,\n",
       " 8.06855110145477,\n",
       " 7.759204453158091,\n",
       " 7.372465039448565,\n",
       " 7.032047328029771,\n",
       " 6.679641786828099,\n",
       " 6.334098201200186,\n",
       " 5.95870991902179,\n",
       " 5.6005699192185,\n",
       " 5.169442282527326,\n",
       " 4.735355531163963,\n",
       " 4.356673345221094,\n",
       " 4.021376380001206,\n",
       " 3.7233119120080787,\n",
       " 3.421513218477548,\n",
       " 3.179548474392259,\n",
       " 2.9716771188988744,\n",
       " 2.77927171638213,\n",
       " 2.617063940289509,\n",
       " 2.47946973766189,\n",
       " 2.3452111927859756,\n",
       " 2.2353256110685416,\n",
       " 2.1285417688898294,\n",
       " 2.007697500952755,\n",
       " 1.8902193661195685,\n",
       " 1.809290428333972,\n",
       " 1.7121043943497072,\n",
       " 1.6331377853830176,\n",
       " 1.5570882820221315,\n",
       " 1.4929664899067707,\n",
       " 1.4320877353829073,\n",
       " 1.3777941801461828,\n",
       " 1.3242763448910542,\n",
       " 1.277212669045092,\n",
       " 1.23169893816293,\n",
       " 1.197640741876809,\n",
       " 1.1556165056056287,\n",
       " 1.1187191944524466,\n",
       " 1.092624260287687,\n",
       " 1.0699278855898293,\n",
       " 1.0504559353173497,\n",
       " 1.0244991280946387,\n",
       " 1.0025978510638318,\n",
       " 0.9772615359490177,\n",
       " 0.9568345759288375,\n",
       " 0.9473488402653889,\n",
       " 0.929866039034832,\n",
       " 0.9109416092734739,\n",
       " 0.8883637998477523,\n",
       " 0.8673936948718795,\n",
       " 0.8451766602964287,\n",
       " 0.8315392554524433,\n",
       " 0.8134397325745548,\n",
       " 0.7954821128443063,\n",
       " 0.8441011688795435,\n",
       " 0.8430463305438858,\n",
       " 0.7857479272118534,\n",
       " 0.7461377036140626,\n",
       " 0.7123412178223392,\n",
       " 0.6912336820579437,\n",
       " 0.6777391281472631,\n",
       " 0.6551825771848839,\n",
       " 0.6419918506978506,\n",
       " 0.6343519035592137,\n",
       " 0.6329551001629198,\n",
       " 0.6227013378258212,\n",
       " 0.6064995532294354,\n",
       " 0.5894222292555384,\n",
       " 0.5763627995209522,\n",
       " 0.5758415199905993,\n",
       " 0.5713270397789507,\n",
       " 0.5603109876793552,\n",
       " 0.5490664689655763,\n",
       " 0.5381738834352379,\n",
       " 0.5268890348543603,\n",
       " 0.5166529230324619,\n",
       " 0.5169460891241051,\n",
       " 0.5225007715713547,\n",
       " 0.5167357497904674,\n",
       " 0.505371762758278,\n",
       " 0.49270421295280914,\n",
       " 0.48459647764642555,\n",
       " 0.47830917720335075,\n",
       " 0.4794608361031636,\n",
       " 0.4776145506336028,\n",
       " 0.4792622857783214,\n",
       " 0.4676502051123654,\n",
       " 0.46027929912130516,\n",
       " 0.45312826023044356,\n",
       " 0.44493535218468633,\n",
       " 0.44840462193431624,\n",
       " 0.4478599546185459,\n",
       " 0.441744696519461,\n",
       " 0.4320295263485736,\n",
       " 0.4293535498969526,\n",
       " 0.4274649328496083,\n",
       " 0.42519793661243943,\n",
       " 0.4230110865759562,\n",
       " 0.4257823664021779,\n",
       " 0.4325345648340432,\n",
       " 0.43275032661047325,\n",
       " 0.42433605301811034,\n",
       " 0.4138368613030537,\n",
       " 0.40467993638601646,\n",
       " 0.39841867893575184,\n",
       " 0.3964424783924976,\n",
       " 0.3966149292078363,\n",
       " 0.4057193556463862,\n",
       " 0.4136431006063898,\n",
       " 0.4172101585261793,\n",
       " 0.4143348481281694,\n",
       " 0.4092029916952892,\n",
       " 0.40229647454009,\n",
       " 0.3895752096032522,\n",
       " 0.37935248139392896,\n",
       " 0.3734255537929305,\n",
       " 0.3712696356227599,\n",
       " 0.3729666410440422,\n",
       " 0.37884890085243317,\n",
       " 0.3836589823286217,\n",
       " 0.37977263001074274,\n",
       " 0.3746441843279873,\n",
       " 0.36360882994640303,\n",
       " 0.35084592527653796,\n",
       " 0.34290336205298644,\n",
       " 0.3383052161659103,\n",
       " 0.3387741563549961,\n",
       " 0.3517182594322297,\n",
       " 0.3978793172233076,\n",
       " 0.4548356530896152,\n",
       " 0.4392054502504418,\n",
       " 0.38905073813645236,\n",
       " 0.34417831287326583,\n",
       " 0.3134281481604978,\n",
       " 0.2942275670278503,\n",
       " 0.2818379041660263,\n",
       " 0.27955659419657236,\n",
       " 0.3075608400336231,\n",
       " 0.6119464375168444,\n",
       " 0.8596115064908223,\n",
       " 0.63682143487126,\n",
       " 0.48708471749202314,\n",
       " 0.40331725657704365,\n",
       " 0.3562020044010806,\n",
       " 0.32672079018799655,\n",
       " 0.30843005955937397,\n",
       " 0.2986688207431012,\n",
       " 0.298616983193949]"
      ]
     },
     "execution_count": 34,
     "metadata": {},
     "output_type": "execute_result"
    }
   ],
   "source": [
    "criterion = nn.CrossEntropyLoss(weight=weights.cuda())\n",
    "model_optimizer = torch.optim.Adam(model.parameters())\n",
    "model.fit(it)"
   ]
  },
  {
   "cell_type": "code",
   "execution_count": 37,
   "metadata": {},
   "outputs": [
    {
     "data": {
      "text/plain": [
       "'the peppermints thwarted wham rowling itself duty moments twilight crashing crashing tables seated directions heading tables breath seated their heads clubs happen dusty shocking shocking chairs windows windows tables themselves windows'"
      ]
     },
     "execution_count": 37,
     "metadata": {},
     "output_type": "execute_result"
    }
   ],
   "source": [
    "s = generation('the', 30)\n",
    "decode(s)"
   ]
  },
  {
   "cell_type": "code",
   "execution_count": 36,
   "metadata": {},
   "outputs": [
    {
     "data": {
      "text/plain": [
       "'harry scanned uncontrollably leather gloves ahead connected backward ahead pearly desk knife knife path leapt magnolia enormous carpet coughing wondered potter recognized thundered razor thundered silent moon fury tightly missed avoided glittering roots headstone hanging heavily hair plucked hair plucked candle fingers resting wore dead producing producing wounds hats rising lines'"
      ]
     },
     "execution_count": 36,
     "metadata": {},
     "output_type": "execute_result"
    }
   ],
   "source": [
    "s = generation('harry', 50)\n",
    "decode(s)"
   ]
  },
  {
   "cell_type": "code",
   "execution_count": 2,
   "metadata": {},
   "outputs": [
    {
     "ename": "NameError",
     "evalue": "name 'model' is not defined",
     "output_type": "error",
     "traceback": [
      "\u001b[0;31m---------------------------------------------------------------------------\u001b[0m",
      "\u001b[0;31mNameError\u001b[0m                                 Traceback (most recent call last)",
      "\u001b[0;32m<ipython-input-2-6dab2c6bcc2e>\u001b[0m in \u001b[0;36m<module>\u001b[0;34m()\u001b[0m\n\u001b[0;32m----> 1\u001b[0;31m \u001b[0mprint\u001b[0m\u001b[0;34m(\u001b[0m\u001b[0mmodel\u001b[0m\u001b[0;34m.\u001b[0m\u001b[0mgru\u001b[0m\u001b[0;34m.\u001b[0m\u001b[0mweight_hh_l0\u001b[0m\u001b[0;34m.\u001b[0m\u001b[0mcpu\u001b[0m\u001b[0;34m(\u001b[0m\u001b[0;34m)\u001b[0m\u001b[0;34m.\u001b[0m\u001b[0mdata\u001b[0m\u001b[0;34m.\u001b[0m\u001b[0mnumpy\u001b[0m\u001b[0;34m(\u001b[0m\u001b[0;34m)\u001b[0m\u001b[0;34m)\u001b[0m\u001b[0;34m\u001b[0m\u001b[0m\n\u001b[0m",
      "\u001b[0;31mNameError\u001b[0m: name 'model' is not defined"
     ]
    }
   ],
   "source": [
    "print(model.gru.weight_hh_l0.cpu().data.numpy())"
   ]
  }
 ],
 "metadata": {
  "kernelspec": {
   "display_name": "Python 3",
   "language": "python",
   "name": "python3"
  },
  "language_info": {
   "codemirror_mode": {
    "name": "ipython",
    "version": 3
   },
   "file_extension": ".py",
   "mimetype": "text/x-python",
   "name": "python",
   "nbconvert_exporter": "python",
   "pygments_lexer": "ipython3",
   "version": "3.5.2"
  }
 },
 "nbformat": 4,
 "nbformat_minor": 2
}
