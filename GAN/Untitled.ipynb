{
 "cells": [
  {
   "cell_type": "code",
   "execution_count": 20,
   "metadata": {},
   "outputs": [
    {
     "name": "stdout",
     "output_type": "stream",
     "text": [
      "\r",
      "          \r",
      "5608/|/ 19%|| 5608/30000 [01:10<05:04, 80.06it/s, D_fake_loss=0.733, D_real_loss=0.641, G_loss=0.68]"
     ]
    }
   ],
   "source": [
    "import numpy as np\n",
    "import torch\n",
    "import torch.nn as nn\n",
    "import torch.nn.functional as F\n",
    "import torch.optim as optim\n",
    "from torch.autograd import Variable\n",
    "\n",
    "from tqdm import tqdm_notebook\n",
    "\n",
    "import matplotlib.pyplot as plt\n",
    "%matplotlib tk\n",
    "plt.style.use('ggplot')"
   ]
  },
  {
   "cell_type": "code",
   "execution_count": null,
   "metadata": {
    "collapsed": true
   },
   "outputs": [],
   "source": []
  },
  {
   "cell_type": "code",
   "execution_count": 21,
   "metadata": {
    "collapsed": true
   },
   "outputs": [],
   "source": [
    "class Generator(nn.Module):\n",
    "    def __init__(self, in_size, hid_size, out_size):\n",
    "        super(Generator, self).__init__()\n",
    "        self.map1 = nn.Linear(in_size, hid_size)\n",
    "        self.map2 = nn.Linear(hid_size, hid_size)\n",
    "        self.map3 = nn.Linear(hid_size, out_size)\n",
    "        \n",
    "    def forward(self, x):\n",
    "        x = F.elu(self.map1(x))\n",
    "        x = F.sigmoid(self.map2(x))\n",
    "        return  self.map3(x)\n",
    "        \n",
    "class Discriminator(nn.Module):\n",
    "    def __init__(self, in_size, hid_size, out_size):\n",
    "        super(Discriminator, self).__init__()\n",
    "        self.map1 = nn.Linear(in_size, hid_size)\n",
    "        self.map2 = nn.Linear(hid_size, hid_size)\n",
    "        self.map3 = nn.Linear(hid_size, out_size)\n",
    "        \n",
    "    def forward(self, x):\n",
    "        x = F.elu(self.map1(x))\n",
    "        x = F.elu(self.map2(x))\n",
    "        return F.sigmoid(self.map3(x))         "
   ]
  },
  {
   "cell_type": "code",
   "execution_count": 22,
   "metadata": {
    "collapsed": true
   },
   "outputs": [],
   "source": [
    "def get_distribution_sampler(mu, sigma):\n",
    "    return lambda n: torch.Tensor(np.random.normal(mu, sigma, (1, n)))\n",
    "\n",
    "def get_generator_input_sampler():\n",
    "    return lambda m, n: torch.rand(m, n) "
   ]
  },
  {
   "cell_type": "code",
   "execution_count": 25,
   "metadata": {
    "collapsed": true
   },
   "outputs": [],
   "source": [
    "d_in_size = 200\n",
    "\n",
    "d_sampler = get_distribution_sampler(4, 0.5)\n",
    "g_sampler = get_generator_input_sampler()\n",
    "G = Generator(\n",
    "    in_size=1,\n",
    "    hid_size=50,\n",
    "    out_size=1\n",
    ")\n",
    "D = Discriminator(\n",
    "    in_size=d_in_size,\n",
    "    hid_size=50,\n",
    "    out_size=1\n",
    ")\n",
    "\n",
    "criterion = nn.BCELoss()\n",
    "d_optimizer = optim.Adam(D.parameters(), lr=2e-4, betas=(0.9, 0.999))\n",
    "g_optimizer = optim.Adam(G.parameters(), lr=2e-4, betas=(0.9, 0.999))\n",
    "    \n",
    "def train():\n",
    "    \n",
    "    dflosses = []\n",
    "    drlosses = []\n",
    "    glosses = []\n",
    "    \n",
    "    e_bar = tqdm_notebook(range(50000))\n",
    "    for e in e_bar:\n",
    "        d_bar = range(1)#tqdm_notebook(range(1), leave=False)\n",
    "        g_bar = range(1)#tqdm_notebook(range(1), leave=False)\n",
    "        \n",
    "        for d_i in d_bar:\n",
    "            D.zero_grad()\n",
    "            # Train on real\n",
    "            d_real_data = Variable(d_sampler(d_in_size))\n",
    "            d_real_dec = D(d_real_data)\n",
    "            d_real_err = criterion(d_real_dec, Variable(torch.ones(1,1)))\n",
    "            d_real_err.backward()\n",
    "            # Train on fake\n",
    "            d_gen_in = Variable(g_sampler(d_in_size, 1))\n",
    "            d_fake_data = G(d_gen_in).detach()\n",
    "            d_fake_dec = D(d_fake_data.t())\n",
    "            d_fake_err = criterion(d_fake_dec, Variable(torch.zeros(1,1)))\n",
    "            d_fake_err.backward()\n",
    "            d_optimizer.step()\n",
    "            \n",
    "            drlosses.append(d_real_err.data[0])\n",
    "            dflosses.append(d_fake_err.data[0])\n",
    "            \n",
    "        \n",
    "        for g_i in g_bar:\n",
    "            G.zero_grad()\n",
    "            \n",
    "            gen_in = Variable(g_sampler(d_in_size, 1))\n",
    "            g_fake_data = G(gen_in)\n",
    "            dg_fake_dec = D(g_fake_data.t())\n",
    "            g_err = criterion(dg_fake_dec, Variable(torch.ones(1,1)))\n",
    "            g_err.backward()\n",
    "            g_optimizer.step()\n",
    "            \n",
    "            glosses.append(g_err.data[0])\n",
    "            \n",
    "        e_bar.set_postfix(\n",
    "            D_real_loss=drlosses[-1],\n",
    "            D_fake_loss=dflosses[-1],\n",
    "            G_loss=glosses[-1]\n",
    "        )\n",
    "    return drlosses, dflosses, glosses\n",
    "   "
   ]
  },
  {
   "cell_type": "code",
   "execution_count": 26,
   "metadata": {},
   "outputs": [
    {
     "data": {
      "application/vnd.jupyter.widget-view+json": {
       "model_id": "85d8cd1a14904248ba6bf6128b1d82df"
      }
     },
     "metadata": {},
     "output_type": "display_data"
    },
    {
     "name": "stdout",
     "output_type": "stream",
     "text": [
      "\r",
      "          \r",
      "4198/|/ 14%|| 4198/30000 [00:53<05:29, 78.32it/s, D_fake_loss=0.751, D_real_loss=0.721, G_loss=0.653]"
     ]
    }
   ],
   "source": [
    "drl, dfl, gl = train()"
   ]
  },
  {
   "cell_type": "code",
   "execution_count": 27,
   "metadata": {},
   "outputs": [
    {
     "data": {
      "text/plain": [
       "<matplotlib.legend.Legend at 0x7f96b8e72eb8>"
      ]
     },
     "execution_count": 27,
     "metadata": {},
     "output_type": "execute_result"
    }
   ],
   "source": [
    "plt.plot(drl, label='real')\n",
    "plt.plot(dfl, label='fake')\n",
    "plt.plot(gl, label='gen')\n",
    "plt.legend()"
   ]
  },
  {
   "cell_type": "code",
   "execution_count": 36,
   "metadata": {
    "collapsed": true
   },
   "outputs": [],
   "source": [
    "gen_in = Variable(g_sampler(10000, 1))\n",
    "gg = G(gen_in)"
   ]
  },
  {
   "cell_type": "code",
   "execution_count": 37,
   "metadata": {},
   "outputs": [
    {
     "name": "stdout",
     "output_type": "stream",
     "text": [
      "0.441987\n",
      "4.30014\n"
     ]
    }
   ],
   "source": [
    "plt.hist(gg.data.numpy(), bins=20)\n",
    "plt.show()\n",
    "print(np.std(gg.data.numpy()))\n",
    "print(np.mean(gg.data.numpy()))"
   ]
  },
  {
   "cell_type": "code",
   "execution_count": null,
   "metadata": {
    "collapsed": true
   },
   "outputs": [],
   "source": [
    "plt.hist(d_sampler(100).numpy().flatten(), bins=20)\n",
    "plt.show()"
   ]
  },
  {
   "cell_type": "code",
   "execution_count": null,
   "metadata": {
    "collapsed": true
   },
   "outputs": [],
   "source": []
  }
 ],
 "metadata": {
  "kernelspec": {
   "display_name": "Python 3",
   "language": "python",
   "name": "python3"
  },
  "language_info": {
   "codemirror_mode": {
    "name": "ipython",
    "version": 3
   },
   "file_extension": ".py",
   "mimetype": "text/x-python",
   "name": "python",
   "nbconvert_exporter": "python",
   "pygments_lexer": "ipython3",
   "version": "3.5.2"
  }
 },
 "nbformat": 4,
 "nbformat_minor": 2
}
