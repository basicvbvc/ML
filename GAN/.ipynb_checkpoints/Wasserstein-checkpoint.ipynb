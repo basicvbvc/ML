{
 "cells": [
  {
   "cell_type": "code",
   "execution_count": 12,
   "metadata": {
    "collapsed": true
   },
   "outputs": [],
   "source": [
    "import numpy as np\n",
    "import torch\n",
    "import torch.nn as nn\n",
    "import torch.nn.functional as F\n",
    "import torch.optim as optim\n",
    "from torch.autograd import Variable\n",
    "from torch import Tensor\n",
    "\n",
    "from tqdm import tqdm_notebook\n",
    "\n",
    "import matplotlib.pyplot as plt\n",
    "%matplotlib tk\n",
    "plt.style.use('ggplot')"
   ]
  },
  {
   "cell_type": "code",
   "execution_count": 190,
   "metadata": {},
   "outputs": [],
   "source": [
    "class DataDistribution(object):\n",
    "    def __init__(self):\n",
    "        self.mu = 4\n",
    "        self.sigma = 0.5\n",
    "\n",
    "    def sample(self, N):\n",
    "        samples = np.random.normal(self.mu, self.sigma, N)\n",
    "        samples.sort()\n",
    "        return samples\n",
    "\n",
    "class GeneratorDistribution(object):\n",
    "    def __init__(self, range):\n",
    "        self.range = range\n",
    "\n",
    "    def sample(self, N):\n",
    "        return np.linspace(-self.range, self.range, N) + \\\n",
    "            np.random.random(N) * 0.01\n",
    "    \n",
    "data = DataDistribution()\n",
    "gen = GeneratorDistribution(8)"
   ]
  },
  {
   "cell_type": "code",
   "execution_count": 207,
   "metadata": {},
   "outputs": [],
   "source": [
    "batch_size = 100\n",
    "\n",
    "g_in = 1\n",
    "g_hid = 4\n",
    "d_in = batch_size\n",
    "d_hid = 4\n",
    "\n",
    "G = nn.Sequential(\n",
    "    nn.Linear(g_in, g_hid),\n",
    "    nn.Softplus(),\n",
    "    nn.Linear(g_hid, 1)\n",
    ")\n",
    "\n",
    "D = nn.Sequential(\n",
    "    nn.Linear(d_in, d_hid * 2),\n",
    "    nn.Tanh(),\n",
    "    nn.Linear(d_hid * 2, d_hid * 2),\n",
    "    nn.Tanh(),\n",
    "    nn.Linear(d_hid * 2, d_hid * 2),\n",
    "    nn.Tanh(),\n",
    "    nn.Linear(d_hid * 2, 1),\n",
    "    #nn.Sigmoid()\n",
    ")\n",
    "\n",
    "G_opt = optim.RMSprop(G.parameters(), lr=5e-5)\n",
    "D_opt = optim.RMSprop(D.parameters(), lr=5e-5)\n",
    "\n",
    "#loss_d = lambda r, f: torch.mean(-torch.log(r) - torch.log(1 - f))\n",
    "#loss_g = lambda y: torch.mean(-torch.log(y))\n",
    "loss_d = lambda r, f: -(torch.mean(r) - torch.mean(f))\n",
    "loss_g = lambda y: -torch.mean(y)"
   ]
  },
  {
   "cell_type": "code",
   "execution_count": 208,
   "metadata": {
    "collapsed": true
   },
   "outputs": [],
   "source": [
    "def train():\n",
    "    def train_D():\n",
    "        x = Variable(Tensor(data.sample(batch_size)))\n",
    "        z = Variable(Tensor(gen.sample(batch_size)))\n",
    "        D1 = D(x.unsqueeze(0))\n",
    "        D2 = G(z.unsqueeze(1))\n",
    "        D2.detach()\n",
    "        D2 = D(D2.t())\n",
    "        D_err = loss_d(D1, D2)\n",
    "        D_err.backward()\n",
    "        D_opt.step()\n",
    "        for p in D.parameters():\n",
    "            p.data.clamp_(-0.01, 0.01)\n",
    "        return D_err.data[0]\n",
    "    \n",
    "    def train_G():\n",
    "        z = Variable(Tensor(gen.sample(batch_size))) \n",
    "        D3 = D(G(z.unsqueeze(1)).t())\n",
    "        G_err = loss_g(D3)\n",
    "        G_err.backward()\n",
    "        G_opt.step()\n",
    "        return G_err.data[0]\n",
    "    \n",
    "    D_losses = []\n",
    "    G_losses = []\n",
    "    e_bar = tqdm_notebook(range(5000))\n",
    "    for e in e_bar:\n",
    "        for _ in range(5):\n",
    "            D_loss = train_D()\n",
    "            D_losses.append(D_loss)\n",
    "        G_loss = train_G()\n",
    "        G_losses.append(G_loss)\n",
    "        e_bar.set_postfix(\n",
    "            D_loss=D_loss,\n",
    "            G_loss=G_loss\n",
    "        )\n",
    "    return D_losses, G_losses"
   ]
  },
  {
   "cell_type": "code",
   "execution_count": 209,
   "metadata": {},
   "outputs": [
    {
     "data": {
      "application/vnd.jupyter.widget-view+json": {
       "model_id": "711a98db440e48649203d39fdb0a95d4"
      }
     },
     "metadata": {},
     "output_type": "display_data"
    }
   ],
   "source": [
    "D_losses, G_losses = train()"
   ]
  },
  {
   "cell_type": "code",
   "execution_count": 212,
   "metadata": {},
   "outputs": [],
   "source": [
    "plt.plot(np.array(D_losses[10:])*-1, label='Discriminator')\n",
    "#plt.plot(G_losses, label='Generator')\n",
    "plt.show()"
   ]
  },
  {
   "cell_type": "code",
   "execution_count": 217,
   "metadata": {},
   "outputs": [],
   "source": [
    "z = Variable(Tensor(gen.sample(batch_size)))\n",
    "g = G(z.unsqueeze(1)).data.numpy().flatten()\n",
    "plt.hist(g)\n",
    "plt.show()\n"
   ]
  }
 ],
 "metadata": {
  "kernelspec": {
   "display_name": "Python 3",
   "language": "python",
   "name": "python3"
  },
  "language_info": {
   "codemirror_mode": {
    "name": "ipython",
    "version": 3
   },
   "file_extension": ".py",
   "mimetype": "text/x-python",
   "name": "python",
   "nbconvert_exporter": "python",
   "pygments_lexer": "ipython3",
   "version": "3.5.2"
  }
 },
 "nbformat": 4,
 "nbformat_minor": 2
}
